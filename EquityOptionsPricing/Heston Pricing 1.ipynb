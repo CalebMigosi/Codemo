{
 "cells": [
  {
   "cell_type": "markdown",
   "metadata": {},
   "source": [
    "<img alt = 'code-more' src = 'img/img.png'>\n",
    "\n",
    "<h1><center>EQUITY OPTIONS PRICING 1</center></h1>\n",
    "<h2><center>Heston Model</center></h2>\n",
    "\n",
    "In this document we review one of the most common options pricing models in equity pricing: the Heston Model. We want to try and **get the intuition** behind the model **so that we can implement and use it**. The derivation is less important to us in this document.\n",
    "\n",
    "We also provide the base pricing formula and the different problems that could occur while pricing with the Heston model.\n",
    "\n",
    "<h3>Workflow</h3>\n",
    "\n",
    "1. Black Scholes Model\n",
    "\n",
    "2. Black Scholes to Heston\n",
    "\n",
    "3. Defining characteristic functions\n",
    "\n",
    "4. Implementation in VBA\n",
    "\n",
    "5. Implementation in Python\n",
    "\n",
    "**Note**\n",
    "\n",
    "Note that this model is not the base market standard for options pricing. But it's a good intro if you want to get into the financial markets with a bare minimum level of math.\n",
    "\n",
    "**You only need to know about probability distributions and integrals.** The rest is just adjustments to what you already know.\n",
    "\n",
    "<h3>TLDR</h3>\n",
    "    \n",
    "**We're going to find the intuition behind the Heston Pricing function and implement it on Python. No derivation, just intuition.**\n",
    "\n",
    "So you'll first have to see where we're going to get a bird's eye view before we venture into the details. The formula seems daunting but in a few steps, we'll show you that it's not really that far from the Black & Scholes model in practice.\n",
    "\n",
    "Our example is just a simple call option. Lets say you have a european option expiring in 2 years with a strike at 100 and the price of the stock (say Apple) is at 110 today. You'd expect the value of the option to be about 10. We also just assume that the risk free interest rate is 5%.\n",
    "\n",
    "In a more general case, we could do this:\n",
    "We define:\n",
    "- $C$ as the value of the call option\n",
    "- $S_t$ the stock price today\n",
    "- $K$ the strike price\n",
    "- $T$ the maturity (therefore $T-t$ is the time to maturity)\n",
    "- $r$ the risk free rate\n",
    "\n",
    "Here we want to find $C$ where $S_t = 110$, $K = 100$, $T = 2$, $t =0$ and $r =0.05$. \n",
    "\n",
    "Also $S_T$ is the final price which we don't know and $P(S_T>K)$ is the future probability that the stock price is above the strike at maturity.\n",
    "\n",
    "Then, using Heston parameters: $\\sigma, \\rho, \\nu, \\kappa, \\theta$, our Heston Pricer is defined as:\n",
    "<br>\n",
    "<br>\n",
    "$$C = S_t . P_1(S_T > K) - Ke^{-rt} . P_2(S_T > K)$$\n",
    "<br>\n",
    "<br>\n",
    "which under the Heston model is:\n",
    "<br>\n",
    "<br>\n",
    "$$C = S_t .\\left[\\frac{1}{2} + \\frac{1}{\\pi} \\int_0^{\\infty} Re\\left[\\frac{e^{-is \\,ln K} f_1(s,\\nu, x)}{is}\\right]ds\\right] - Ke^{-rt}\\left[\\frac{1}{2} + \\frac{1}{\\pi} \\int_0^{\\infty} Re\\left[\\frac{e^{-is \\,ln K} f_2(s,\\nu, x)}{is}\\right]ds\\right]$$\n",
    "<br>\n",
    "<br>\n",
    "where:\n",
    "$$f_j(s,\\nu, x) = exp(C_j(\\tau, s) + D_j(\\tau, s).\\nu + i.s.x)$$\n",
    "<br>\n",
    "<br>\n",
    "and assuming:\n",
    "$$x =ln S_t$$\n",
    "<br>\n",
    "<br>\n",
    "$$d_j = \\sqrt{(\\rho.\\sigma.i.s)^2 - \\sigma^2.(2.u_j.i.s - s^2)}$$\n",
    "<br>\n",
    "<br>\n",
    "$$g_j = \\frac{b_j - \\rho.\\sigma.i.s + d_j}{b_j - \\rho.\\sigma.i.s - d_j}$$\n",
    "<br>\n",
    "<br>\n",
    "$$where: u_1 = 0.5, u_2 = 0.5$$\n",
    "$$and: b_1 = \\kappa - \\rho.\\sigma, b_2 = \\kappa$$\n",
    "<br>\n",
    "<br>\n",
    "then: \n",
    "$$let \\,BRS = b_j - \\rho.\\sigma.i.s + d_j$$\n",
    "$$C_j(\\tau, s) = r.i.s.\\tau + \\frac{a}{\\sigma^2}\\left[ (BRS).\\tau - 2 ln \\left(\\frac{1 - g_j.e^{d_j.\\tau}}{1 - g_j}\\right)\\right]$$\n",
    "<br>\n",
    "<br>\n",
    "$$D_j = \\frac{BRS}{\\sigma^2} \\left(\\frac{1 - e^{d_j.\\tau}}{1 - g_j.e^{d_j.\\tau}} \\right)$$\n"
   ]
  },
  {
   "cell_type": "markdown",
   "metadata": {},
   "source": [
    "<h3><center>Full Code</center></h3>\n",
    "\n",
    "Here's the full code snippet if you're in a hurry or if you already have the intuition behind the Heston and just want to see an implementation that will help you get started quick.\n",
    "\n",
    "Also note that I'm implementing a simplified version of the formula above. This is an implementation of [this](#Simplified-(Single-Integral)-Formula) formula."
   ]
  },
  {
   "cell_type": "code",
   "execution_count": 1,
   "metadata": {},
   "outputs": [],
   "source": [
    "import numpy as np\n",
    "\n",
    "i = complex(0,1)\n",
    "u = 1\n",
    "\n",
    "# To be used in the Heston pricer\n",
    "def fHeston(u, St, K, r, T, sigma, kappa, theta, volvol, rho):\n",
    "    # To be used a lot\n",
    "    prod = rho * sigma *i *u \n",
    "    \n",
    "    # Calculate d\n",
    "    d1 = (prod - kappa)**2\n",
    "    d2 = (sigma**2) * (i*u + u**2)\n",
    "    d = np.sqrt(d1 + d2)\n",
    "    \n",
    "    # Calculate g\n",
    "    g1 = kappa - prod - d\n",
    "    g2 = kappa - prod + d\n",
    "    g = g1/g2\n",
    "    \n",
    "    # Calculate first exponential\n",
    "    exp1 = np.exp(np.log(St) * i *u) * np.exp(i * u* r* T)\n",
    "    exp2 = 1 - g * np.exp(-d *T)\n",
    "    exp3 = 1- g\n",
    "    mainExp1 = exp1 * np.power(exp2/ exp3, -2 * theta * kappa/(sigma **2))\n",
    "    \n",
    "    # Calculate second exponential\n",
    "    exp4 = theta * kappa * T/(sigma **2)\n",
    "    exp5 = volvol/(sigma **2)\n",
    "    exp6 = (1 - np.exp(-d * T))/(1 - g * np.exp(-d * T))\n",
    "    mainExp2 = np.exp((exp4 * g1) + (exp5 *g1 * exp6))\n",
    "    \n",
    "    return (mainExp1 * mainExp2)\n",
    "\n",
    "# Heston Pricer\n",
    "def priceHestonMid(St, K, r, T, sigma, kappa, theta, volvol, rho):\n",
    "    P, iterations, maxNumber = 0,1000,100\n",
    "    du = maxNumber/iterations\n",
    "    \n",
    "    element1 = 0.5 * (St - K * np.exp(-r * T))\n",
    "    \n",
    "    # Calculate the complex integral\n",
    "    # Using j instead of i to avoid confusion\n",
    "    for j in range(1, iterations):\n",
    "        u1 = du * (2*j + 1)/2\n",
    "        u2 = u1 - i\n",
    "        \n",
    "        numerator1 = fHeston(u2,  St, K, r, T, sigma, kappa, theta, volvol, rho)\n",
    "        numerator2 = K * fHeston(u1,  St, K, r, T, sigma, kappa, theta, volvol, rho)\n",
    "        denominator = np.exp(np.log(K) * i * u1) *i *u1\n",
    "        \n",
    "        P += du *(numerator1 - numerator2)/denominator\n",
    "    \n",
    "    element2 = P/np.pi\n",
    "    \n",
    "    return np.real((element1 + element2))"
   ]
  },
  {
   "cell_type": "markdown",
   "metadata": {},
   "source": [
    "<h3><center>Introduction: Black Scholes Model</center></h3>\n",
    " We begin by introducing the Black and Scholes pricer and make parallels to the base options pricing model in comparison to the Heston.\n",
    "\n",
    "We suppose that the stock price today is $S_t$ and the strike of the call option is $K$. We also assume that the stock matures at time $T$ and therefore the time to maturity is $T-t$\n",
    "\n",
    "Finally, we assume our risk free rate is $r$. Also, we assume that we discount continuously in our model. So we know that our strike $K$ only applies at the time of maturity T. \n",
    "\n",
    "So the value today of the strike $K$ should be discounted to today for us to find the value of our option today.\n",
    "\n",
    "We know that the Black and Scholes pricing model gives the following final formula for a call option:\n",
    "<br>\n",
    "<br>\n",
    "$$C = N(d_1)\\times S_t - Ke^{-rt} \\times N(d_2)$$\n",
    "\n",
    "$$where:$$          \n",
    "$$d_1 = \\frac{ln \\left(\\frac{S_t}{K}\\right) +  \\left( r + \\frac{\\sigma ^ 2}{2} \\right) (T-t)}{\\sigma \\sqrt{(T-t)}}$$\n",
    "\n",
    "$$d_2 = d_1 - \\sigma t$$\n",
    "\n",
    "and $N$ is the cumulative distribution function for a normal random variable. \n",
    "<br>\n",
    "<br>\n",
    "\n",
    "**Side note: Intuition behind the N function in Black Scholes**\n",
    "\n",
    "$N()$ is just the NORM.DIST function  in Excel. This function takes the following inputs:\n",
    "\n",
    "      NORM.DIST(x, mean, standard_dev)\n",
    "      \n",
    "And calculates, for any input x, the area under the bell curve starting from the left. \n",
    "\n",
    "**Example**\n",
    "\n",
    "Say we have 0 as the mean and 1 as the standard deviation.\n",
    "\n",
    "This means that at 0 the area of the graph below starting from the furthest point on the left will be exactly half. \n",
    "\n",
    "This area represents the probability of a random value selected from a distribution of mean 0 and standard deviation 1 being less than or equal to $x$. \n",
    "\n",
    "Therefore, the larger the number $x$ the higher the probability that any random number selected will be less than $x$."
   ]
  },
  {
   "cell_type": "code",
   "execution_count": 14,
   "metadata": {
    "tags": [
     "hide-input"
    ]
   },
   "outputs": [
    {
     "data": {
      "application/vnd.plotly.v1+json": {
       "config": {
        "plotlyServerURL": "https://plot.ly"
       },
       "data": [
        {
         "line": {
          "color": "#ffc93c",
          "width": 2.5
         },
         "name": "PDF",
         "type": "scatter",
         "x": [
          -3,
          -2.94,
          -2.88,
          -2.82,
          -2.76,
          -2.7,
          -2.64,
          -2.58,
          -2.52,
          -2.46,
          -2.4,
          -2.34,
          -2.2800000000000002,
          -2.2199999999999998,
          -2.16,
          -2.1,
          -2.04,
          -1.98,
          -1.92,
          -1.86,
          -1.8,
          -1.74,
          -1.6800000000000002,
          -1.62,
          -1.56,
          -1.5,
          -1.44,
          -1.3800000000000001,
          -1.32,
          -1.26,
          -1.2000000000000002,
          -1.1400000000000001,
          -1.08,
          -1.02,
          -0.96,
          -0.8999999999999999,
          -0.8399999999999999,
          -0.7800000000000002,
          -0.7200000000000002,
          -0.6600000000000001,
          -0.6000000000000001,
          -0.54,
          -0.48,
          -0.41999999999999993,
          -0.3600000000000003,
          -0.30000000000000027,
          -0.2400000000000002,
          -0.18000000000000016,
          -0.1200000000000001,
          -0.06000000000000005,
          0,
          0.06000000000000005,
          0.1200000000000001,
          0.17999999999999972,
          0.23999999999999977,
          0.2999999999999998,
          0.3599999999999999,
          0.41999999999999993,
          0.48,
          0.54,
          0.5999999999999996,
          0.6599999999999997,
          0.7199999999999998,
          0.7799999999999998,
          0.8399999999999999,
          0.8999999999999999,
          0.96,
          1.0199999999999996,
          1.08,
          1.1399999999999997,
          1.2000000000000002,
          1.2599999999999998,
          1.3200000000000003,
          1.38,
          1.4399999999999995,
          1.5,
          1.5599999999999996,
          1.62,
          1.6799999999999997,
          1.7400000000000002,
          1.7999999999999998,
          1.8599999999999994,
          1.92,
          1.9799999999999995,
          2.04,
          2.0999999999999996,
          2.16,
          2.2199999999999998,
          2.2799999999999994,
          2.34,
          2.3999999999999995,
          2.46,
          2.5199999999999996,
          2.58,
          2.6399999999999997,
          2.7,
          2.76,
          2.8199999999999994,
          2.88,
          2.9399999999999995,
          3
         ],
         "xaxis": "x",
         "y": [
          0.0044318484119380075,
          0.00529634386531102,
          0.0063067263962659275,
          0.007482872525780564,
          0.008846454398237232,
          0.010420934814422592,
          0.012231526351277971,
          0.014305108994149692,
          0.016670100837381057,
          0.019356276731736965,
          0.0223945302948429,
          0.02581657547158769,
          0.02965458484734125,
          0.033940763182449214,
          0.03870685614745561,
          0.0439835959804272,
          0.049800087735070775,
          0.05618314190386805,
          0.06315656143519865,
          0.07074039345698338,
          0.07895015830089415,
          0.08779607061090564,
          0.09728226933146747,
          0.1074060751134838,
          0.11815729505958228,
          0.12951759566589174,
          0.1414599652248388,
          0.1539482867626337,
          0.1669370417417138,
          0.18037116322708033,
          0.19418605498321292,
          0.2083077900471083,
          0.22265349875176116,
          0.23713195201937962,
          0.2516443410981171,
          0.26608524989875487,
          0.2803438108396206,
          0.2943050297883251,
          0.30785126046985295,
          0.32086380377117246,
          0.33322460289179967,
          0.3448180014393334,
          0.3555325285059971,
          0.3652626726221539,
          0.37391060537312837,
          0.3813878154605241,
          0.3876166151250141,
          0.3925314831204289,
          0.3960802117936561,
          0.39822483019560695,
          0.3989422804014327,
          0.39822483019560695,
          0.3960802117936561,
          0.39253148312042896,
          0.38761661512501416,
          0.38138781546052414,
          0.3739106053731284,
          0.3652626726221539,
          0.3555325285059971,
          0.3448180014393334,
          0.3332246028917997,
          0.3208638037711726,
          0.307851260469853,
          0.2943050297883252,
          0.2803438108396206,
          0.26608524989875487,
          0.2516443410981171,
          0.2371319520193797,
          0.22265349875176116,
          0.20830779004710845,
          0.19418605498321292,
          0.18037116322708038,
          0.16693704174171375,
          0.15394828676263372,
          0.14145996522483892,
          0.12951759566589174,
          0.11815729505958236,
          0.1074060751134838,
          0.09728226933146754,
          0.0877960706109056,
          0.07895015830089419,
          0.07074039345698346,
          0.06315656143519865,
          0.0561831419038681,
          0.049800087735070775,
          0.04398359598042723,
          0.03870685614745561,
          0.033940763182449214,
          0.029654584847341316,
          0.02581657547158769,
          0.02239453029484293,
          0.019356276731736965,
          0.016670100837381078,
          0.014305108994149692,
          0.012231526351277989,
          0.010420934814422592,
          0.008846454398237232,
          0.007482872525780574,
          0.0063067263962659275,
          0.0052963438653110245,
          0.0044318484119380075
         ],
         "yaxis": "y"
        },
        {
         "line": {
          "color": "#ffc93c",
          "width": 2.5
         },
         "name": "CDF",
         "type": "scatter",
         "x": [
          -3,
          -2.94,
          -2.88,
          -2.82,
          -2.76,
          -2.7,
          -2.64,
          -2.58,
          -2.52,
          -2.46,
          -2.4,
          -2.34,
          -2.2800000000000002,
          -2.2199999999999998,
          -2.16,
          -2.1,
          -2.04,
          -1.98,
          -1.92,
          -1.86,
          -1.8,
          -1.74,
          -1.6800000000000002,
          -1.62,
          -1.56,
          -1.5,
          -1.44,
          -1.3800000000000001,
          -1.32,
          -1.26,
          -1.2000000000000002,
          -1.1400000000000001,
          -1.08,
          -1.02,
          -0.96,
          -0.8999999999999999,
          -0.8399999999999999,
          -0.7800000000000002,
          -0.7200000000000002,
          -0.6600000000000001,
          -0.6000000000000001,
          -0.54,
          -0.48,
          -0.41999999999999993,
          -0.3600000000000003,
          -0.30000000000000027,
          -0.2400000000000002,
          -0.18000000000000016,
          -0.1200000000000001,
          -0.06000000000000005,
          0,
          0.06000000000000005,
          0.1200000000000001,
          0.17999999999999972,
          0.23999999999999977,
          0.2999999999999998,
          0.3599999999999999,
          0.41999999999999993,
          0.48,
          0.54,
          0.5999999999999996,
          0.6599999999999997,
          0.7199999999999998,
          0.7799999999999998,
          0.8399999999999999,
          0.8999999999999999,
          0.96,
          1.0199999999999996,
          1.08,
          1.1399999999999997,
          1.2000000000000002,
          1.2599999999999998,
          1.3200000000000003,
          1.38,
          1.4399999999999995,
          1.5,
          1.5599999999999996,
          1.62,
          1.6799999999999997,
          1.7400000000000002,
          1.7999999999999998,
          1.8599999999999994,
          1.92,
          1.9799999999999995,
          2.04,
          2.0999999999999996,
          2.16,
          2.2199999999999998,
          2.2799999999999994,
          2.34,
          2.3999999999999995,
          2.46,
          2.5199999999999996,
          2.58,
          2.6399999999999997,
          2.7,
          2.76,
          2.8199999999999994,
          2.88,
          2.9399999999999995,
          3
         ],
         "xaxis": "x2",
         "y": [
          0.0013498980316300933,
          0.0016410612341569964,
          0.0019883758548943256,
          0.0024011824741892525,
          0.0028900680762261478,
          0.0034669738030406647,
          0.004145301361036037,
          0.004940015757770645,
          0.005867741715332562,
          0.006946850788624312,
          0.008197535924596131,
          0.00964186994535833,
          0.01130384423855278,
          0.013209383807256284,
          0.015386334783925445,
          0.017864420562816542,
          0.020675162866070042,
          0.023851764341508513,
          0.027428949703836802,
          0.03144276298075271,
          0.03593031911292579,
          0.040929508978807365,
          0.04647865786372002,
          0.05261613845425206,
          0.05937994059479304,
          0.06680720126885807,
          0.07493369953432708,
          0.08379332241501425,
          0.09341750899347179,
          0.1038346811213004,
          0.11506967022170828,
          0.12714315056279818,
          0.140071090088769,
          0.15386423037273478,
          0.16852760746683781,
          0.18406012534675953,
          0.20045419326044972,
          0.217695437585733,
          0.23576249777925112,
          0.2546269146713361,
          0.27425311775007355,
          0.294598516215698,
          0.31561369651622256,
          0.3372427268482495,
          0.3594235667820086,
          0.38208857781104727,
          0.4051651283022041,
          0.4285762840990992,
          0.4522415739794161,
          0.4760778173458931,
          0.5,
          0.5239221826541068,
          0.5477584260205839,
          0.5714237159009006,
          0.5948348716977958,
          0.6179114221889526,
          0.6405764332179912,
          0.6627572731517505,
          0.6843863034837774,
          0.705401483784302,
          0.7257468822499263,
          0.7453730853286638,
          0.7642375022207488,
          0.7823045624142668,
          0.7995458067395502,
          0.8159398746532405,
          0.8314723925331622,
          0.846135769627265,
          0.859928909911231,
          0.8728568494372017,
          0.8849303297782918,
          0.8961653188786995,
          0.9065824910065282,
          0.9162066775849856,
          0.925066300465673,
          0.9331927987311419,
          0.940620059405207,
          0.9473838615457479,
          0.9535213421362799,
          0.9590704910211927,
          0.9640696808870742,
          0.9685572370192472,
          0.9725710502961632,
          0.9761482356584915,
          0.9793248371339299,
          0.9821355794371834,
          0.9846136652160745,
          0.9867906161927437,
          0.9886961557614472,
          0.9903581300546417,
          0.9918024640754038,
          0.9930531492113757,
          0.9941322582846674,
          0.9950599842422293,
          0.9958546986389639,
          0.9965330261969594,
          0.9971099319237738,
          0.9975988175258107,
          0.9980116241451057,
          0.998358938765843,
          0.9986501019683699
         ],
         "yaxis": "y2"
        }
       ],
       "layout": {
        "annotations": [
         {
          "font": {
           "size": 16
          },
          "showarrow": false,
          "text": "Normal distribution (mean 0, stdev 1) - PDF",
          "x": 0.225,
          "xanchor": "center",
          "xref": "paper",
          "y": 1,
          "yanchor": "bottom",
          "yref": "paper"
         },
         {
          "font": {
           "size": 16
          },
          "showarrow": false,
          "text": "Area under the curve(from the left) - CDF",
          "x": 0.775,
          "xanchor": "center",
          "xref": "paper",
          "y": 1,
          "yanchor": "bottom",
          "yref": "paper"
         }
        ],
        "plot_bgcolor": "#0f4c75",
        "template": {
         "data": {
          "bar": [
           {
            "error_x": {
             "color": "#2a3f5f"
            },
            "error_y": {
             "color": "#2a3f5f"
            },
            "marker": {
             "line": {
              "color": "#E5ECF6",
              "width": 0.5
             }
            },
            "type": "bar"
           }
          ],
          "barpolar": [
           {
            "marker": {
             "line": {
              "color": "#E5ECF6",
              "width": 0.5
             }
            },
            "type": "barpolar"
           }
          ],
          "carpet": [
           {
            "aaxis": {
             "endlinecolor": "#2a3f5f",
             "gridcolor": "white",
             "linecolor": "white",
             "minorgridcolor": "white",
             "startlinecolor": "#2a3f5f"
            },
            "baxis": {
             "endlinecolor": "#2a3f5f",
             "gridcolor": "white",
             "linecolor": "white",
             "minorgridcolor": "white",
             "startlinecolor": "#2a3f5f"
            },
            "type": "carpet"
           }
          ],
          "choropleth": [
           {
            "colorbar": {
             "outlinewidth": 0,
             "ticks": ""
            },
            "type": "choropleth"
           }
          ],
          "contour": [
           {
            "colorbar": {
             "outlinewidth": 0,
             "ticks": ""
            },
            "colorscale": [
             [
              0,
              "#0d0887"
             ],
             [
              0.1111111111111111,
              "#46039f"
             ],
             [
              0.2222222222222222,
              "#7201a8"
             ],
             [
              0.3333333333333333,
              "#9c179e"
             ],
             [
              0.4444444444444444,
              "#bd3786"
             ],
             [
              0.5555555555555556,
              "#d8576b"
             ],
             [
              0.6666666666666666,
              "#ed7953"
             ],
             [
              0.7777777777777778,
              "#fb9f3a"
             ],
             [
              0.8888888888888888,
              "#fdca26"
             ],
             [
              1,
              "#f0f921"
             ]
            ],
            "type": "contour"
           }
          ],
          "contourcarpet": [
           {
            "colorbar": {
             "outlinewidth": 0,
             "ticks": ""
            },
            "type": "contourcarpet"
           }
          ],
          "heatmap": [
           {
            "colorbar": {
             "outlinewidth": 0,
             "ticks": ""
            },
            "colorscale": [
             [
              0,
              "#0d0887"
             ],
             [
              0.1111111111111111,
              "#46039f"
             ],
             [
              0.2222222222222222,
              "#7201a8"
             ],
             [
              0.3333333333333333,
              "#9c179e"
             ],
             [
              0.4444444444444444,
              "#bd3786"
             ],
             [
              0.5555555555555556,
              "#d8576b"
             ],
             [
              0.6666666666666666,
              "#ed7953"
             ],
             [
              0.7777777777777778,
              "#fb9f3a"
             ],
             [
              0.8888888888888888,
              "#fdca26"
             ],
             [
              1,
              "#f0f921"
             ]
            ],
            "type": "heatmap"
           }
          ],
          "heatmapgl": [
           {
            "colorbar": {
             "outlinewidth": 0,
             "ticks": ""
            },
            "colorscale": [
             [
              0,
              "#0d0887"
             ],
             [
              0.1111111111111111,
              "#46039f"
             ],
             [
              0.2222222222222222,
              "#7201a8"
             ],
             [
              0.3333333333333333,
              "#9c179e"
             ],
             [
              0.4444444444444444,
              "#bd3786"
             ],
             [
              0.5555555555555556,
              "#d8576b"
             ],
             [
              0.6666666666666666,
              "#ed7953"
             ],
             [
              0.7777777777777778,
              "#fb9f3a"
             ],
             [
              0.8888888888888888,
              "#fdca26"
             ],
             [
              1,
              "#f0f921"
             ]
            ],
            "type": "heatmapgl"
           }
          ],
          "histogram": [
           {
            "marker": {
             "colorbar": {
              "outlinewidth": 0,
              "ticks": ""
             }
            },
            "type": "histogram"
           }
          ],
          "histogram2d": [
           {
            "colorbar": {
             "outlinewidth": 0,
             "ticks": ""
            },
            "colorscale": [
             [
              0,
              "#0d0887"
             ],
             [
              0.1111111111111111,
              "#46039f"
             ],
             [
              0.2222222222222222,
              "#7201a8"
             ],
             [
              0.3333333333333333,
              "#9c179e"
             ],
             [
              0.4444444444444444,
              "#bd3786"
             ],
             [
              0.5555555555555556,
              "#d8576b"
             ],
             [
              0.6666666666666666,
              "#ed7953"
             ],
             [
              0.7777777777777778,
              "#fb9f3a"
             ],
             [
              0.8888888888888888,
              "#fdca26"
             ],
             [
              1,
              "#f0f921"
             ]
            ],
            "type": "histogram2d"
           }
          ],
          "histogram2dcontour": [
           {
            "colorbar": {
             "outlinewidth": 0,
             "ticks": ""
            },
            "colorscale": [
             [
              0,
              "#0d0887"
             ],
             [
              0.1111111111111111,
              "#46039f"
             ],
             [
              0.2222222222222222,
              "#7201a8"
             ],
             [
              0.3333333333333333,
              "#9c179e"
             ],
             [
              0.4444444444444444,
              "#bd3786"
             ],
             [
              0.5555555555555556,
              "#d8576b"
             ],
             [
              0.6666666666666666,
              "#ed7953"
             ],
             [
              0.7777777777777778,
              "#fb9f3a"
             ],
             [
              0.8888888888888888,
              "#fdca26"
             ],
             [
              1,
              "#f0f921"
             ]
            ],
            "type": "histogram2dcontour"
           }
          ],
          "mesh3d": [
           {
            "colorbar": {
             "outlinewidth": 0,
             "ticks": ""
            },
            "type": "mesh3d"
           }
          ],
          "parcoords": [
           {
            "line": {
             "colorbar": {
              "outlinewidth": 0,
              "ticks": ""
             }
            },
            "type": "parcoords"
           }
          ],
          "pie": [
           {
            "automargin": true,
            "type": "pie"
           }
          ],
          "scatter": [
           {
            "marker": {
             "colorbar": {
              "outlinewidth": 0,
              "ticks": ""
             }
            },
            "type": "scatter"
           }
          ],
          "scatter3d": [
           {
            "line": {
             "colorbar": {
              "outlinewidth": 0,
              "ticks": ""
             }
            },
            "marker": {
             "colorbar": {
              "outlinewidth": 0,
              "ticks": ""
             }
            },
            "type": "scatter3d"
           }
          ],
          "scattercarpet": [
           {
            "marker": {
             "colorbar": {
              "outlinewidth": 0,
              "ticks": ""
             }
            },
            "type": "scattercarpet"
           }
          ],
          "scattergeo": [
           {
            "marker": {
             "colorbar": {
              "outlinewidth": 0,
              "ticks": ""
             }
            },
            "type": "scattergeo"
           }
          ],
          "scattergl": [
           {
            "marker": {
             "colorbar": {
              "outlinewidth": 0,
              "ticks": ""
             }
            },
            "type": "scattergl"
           }
          ],
          "scattermapbox": [
           {
            "marker": {
             "colorbar": {
              "outlinewidth": 0,
              "ticks": ""
             }
            },
            "type": "scattermapbox"
           }
          ],
          "scatterpolar": [
           {
            "marker": {
             "colorbar": {
              "outlinewidth": 0,
              "ticks": ""
             }
            },
            "type": "scatterpolar"
           }
          ],
          "scatterpolargl": [
           {
            "marker": {
             "colorbar": {
              "outlinewidth": 0,
              "ticks": ""
             }
            },
            "type": "scatterpolargl"
           }
          ],
          "scatterternary": [
           {
            "marker": {
             "colorbar": {
              "outlinewidth": 0,
              "ticks": ""
             }
            },
            "type": "scatterternary"
           }
          ],
          "surface": [
           {
            "colorbar": {
             "outlinewidth": 0,
             "ticks": ""
            },
            "colorscale": [
             [
              0,
              "#0d0887"
             ],
             [
              0.1111111111111111,
              "#46039f"
             ],
             [
              0.2222222222222222,
              "#7201a8"
             ],
             [
              0.3333333333333333,
              "#9c179e"
             ],
             [
              0.4444444444444444,
              "#bd3786"
             ],
             [
              0.5555555555555556,
              "#d8576b"
             ],
             [
              0.6666666666666666,
              "#ed7953"
             ],
             [
              0.7777777777777778,
              "#fb9f3a"
             ],
             [
              0.8888888888888888,
              "#fdca26"
             ],
             [
              1,
              "#f0f921"
             ]
            ],
            "type": "surface"
           }
          ],
          "table": [
           {
            "cells": {
             "fill": {
              "color": "#EBF0F8"
             },
             "line": {
              "color": "white"
             }
            },
            "header": {
             "fill": {
              "color": "#C8D4E3"
             },
             "line": {
              "color": "white"
             }
            },
            "type": "table"
           }
          ]
         },
         "layout": {
          "annotationdefaults": {
           "arrowcolor": "#2a3f5f",
           "arrowhead": 0,
           "arrowwidth": 1
          },
          "autotypenumbers": "strict",
          "coloraxis": {
           "colorbar": {
            "outlinewidth": 0,
            "ticks": ""
           }
          },
          "colorscale": {
           "diverging": [
            [
             0,
             "#8e0152"
            ],
            [
             0.1,
             "#c51b7d"
            ],
            [
             0.2,
             "#de77ae"
            ],
            [
             0.3,
             "#f1b6da"
            ],
            [
             0.4,
             "#fde0ef"
            ],
            [
             0.5,
             "#f7f7f7"
            ],
            [
             0.6,
             "#e6f5d0"
            ],
            [
             0.7,
             "#b8e186"
            ],
            [
             0.8,
             "#7fbc41"
            ],
            [
             0.9,
             "#4d9221"
            ],
            [
             1,
             "#276419"
            ]
           ],
           "sequential": [
            [
             0,
             "#0d0887"
            ],
            [
             0.1111111111111111,
             "#46039f"
            ],
            [
             0.2222222222222222,
             "#7201a8"
            ],
            [
             0.3333333333333333,
             "#9c179e"
            ],
            [
             0.4444444444444444,
             "#bd3786"
            ],
            [
             0.5555555555555556,
             "#d8576b"
            ],
            [
             0.6666666666666666,
             "#ed7953"
            ],
            [
             0.7777777777777778,
             "#fb9f3a"
            ],
            [
             0.8888888888888888,
             "#fdca26"
            ],
            [
             1,
             "#f0f921"
            ]
           ],
           "sequentialminus": [
            [
             0,
             "#0d0887"
            ],
            [
             0.1111111111111111,
             "#46039f"
            ],
            [
             0.2222222222222222,
             "#7201a8"
            ],
            [
             0.3333333333333333,
             "#9c179e"
            ],
            [
             0.4444444444444444,
             "#bd3786"
            ],
            [
             0.5555555555555556,
             "#d8576b"
            ],
            [
             0.6666666666666666,
             "#ed7953"
            ],
            [
             0.7777777777777778,
             "#fb9f3a"
            ],
            [
             0.8888888888888888,
             "#fdca26"
            ],
            [
             1,
             "#f0f921"
            ]
           ]
          },
          "colorway": [
           "#636efa",
           "#EF553B",
           "#00cc96",
           "#ab63fa",
           "#FFA15A",
           "#19d3f3",
           "#FF6692",
           "#B6E880",
           "#FF97FF",
           "#FECB52"
          ],
          "font": {
           "color": "#2a3f5f"
          },
          "geo": {
           "bgcolor": "white",
           "lakecolor": "white",
           "landcolor": "#E5ECF6",
           "showlakes": true,
           "showland": true,
           "subunitcolor": "white"
          },
          "hoverlabel": {
           "align": "left"
          },
          "hovermode": "closest",
          "mapbox": {
           "style": "light"
          },
          "paper_bgcolor": "white",
          "plot_bgcolor": "#E5ECF6",
          "polar": {
           "angularaxis": {
            "gridcolor": "white",
            "linecolor": "white",
            "ticks": ""
           },
           "bgcolor": "#E5ECF6",
           "radialaxis": {
            "gridcolor": "white",
            "linecolor": "white",
            "ticks": ""
           }
          },
          "scene": {
           "xaxis": {
            "backgroundcolor": "#E5ECF6",
            "gridcolor": "white",
            "gridwidth": 2,
            "linecolor": "white",
            "showbackground": true,
            "ticks": "",
            "zerolinecolor": "white"
           },
           "yaxis": {
            "backgroundcolor": "#E5ECF6",
            "gridcolor": "white",
            "gridwidth": 2,
            "linecolor": "white",
            "showbackground": true,
            "ticks": "",
            "zerolinecolor": "white"
           },
           "zaxis": {
            "backgroundcolor": "#E5ECF6",
            "gridcolor": "white",
            "gridwidth": 2,
            "linecolor": "white",
            "showbackground": true,
            "ticks": "",
            "zerolinecolor": "white"
           }
          },
          "shapedefaults": {
           "line": {
            "color": "#2a3f5f"
           }
          },
          "ternary": {
           "aaxis": {
            "gridcolor": "white",
            "linecolor": "white",
            "ticks": ""
           },
           "baxis": {
            "gridcolor": "white",
            "linecolor": "white",
            "ticks": ""
           },
           "bgcolor": "#E5ECF6",
           "caxis": {
            "gridcolor": "white",
            "linecolor": "white",
            "ticks": ""
           }
          },
          "title": {
           "x": 0.05
          },
          "xaxis": {
           "automargin": true,
           "gridcolor": "white",
           "linecolor": "white",
           "ticks": "",
           "title": {
            "standoff": 15
           },
           "zerolinecolor": "white",
           "zerolinewidth": 2
          },
          "yaxis": {
           "automargin": true,
           "gridcolor": "white",
           "linecolor": "white",
           "ticks": "",
           "title": {
            "standoff": 15
           },
           "zerolinecolor": "white",
           "zerolinewidth": 2
          }
         }
        },
        "xaxis": {
         "anchor": "y",
         "domain": [
          0,
          0.45
         ],
         "showgrid": false
        },
        "xaxis2": {
         "anchor": "y2",
         "domain": [
          0.55,
          1
         ],
         "showgrid": false
        },
        "yaxis": {
         "anchor": "x",
         "domain": [
          0,
          1
         ],
         "showgrid": false
        },
        "yaxis2": {
         "anchor": "x2",
         "domain": [
          0,
          1
         ],
         "showgrid": false
        }
       }
      },
      "text/html": [
       "<div>                            <div id=\"bcaef920-c744-42a8-926d-cb2c67189cc0\" class=\"plotly-graph-div\" style=\"height:525px; width:100%;\"></div>            <script type=\"text/javascript\">                require([\"plotly\"], function(Plotly) {                    window.PLOTLYENV=window.PLOTLYENV || {};                                    if (document.getElementById(\"bcaef920-c744-42a8-926d-cb2c67189cc0\")) {                    Plotly.newPlot(                        \"bcaef920-c744-42a8-926d-cb2c67189cc0\",                        [{\"line\": {\"color\": \"#ffc93c\", \"width\": 2.5}, \"name\": \"PDF\", \"type\": \"scatter\", \"x\": [-3.0, -2.94, -2.88, -2.82, -2.76, -2.7, -2.64, -2.58, -2.52, -2.46, -2.4, -2.34, -2.2800000000000002, -2.2199999999999998, -2.16, -2.1, -2.04, -1.98, -1.92, -1.86, -1.8, -1.74, -1.6800000000000002, -1.62, -1.56, -1.5, -1.44, -1.3800000000000001, -1.32, -1.26, -1.2000000000000002, -1.1400000000000001, -1.08, -1.02, -0.96, -0.8999999999999999, -0.8399999999999999, -0.7800000000000002, -0.7200000000000002, -0.6600000000000001, -0.6000000000000001, -0.54, -0.48, -0.41999999999999993, -0.3600000000000003, -0.30000000000000027, -0.2400000000000002, -0.18000000000000016, -0.1200000000000001, -0.06000000000000005, 0.0, 0.06000000000000005, 0.1200000000000001, 0.17999999999999972, 0.23999999999999977, 0.2999999999999998, 0.3599999999999999, 0.41999999999999993, 0.48, 0.54, 0.5999999999999996, 0.6599999999999997, 0.7199999999999998, 0.7799999999999998, 0.8399999999999999, 0.8999999999999999, 0.96, 1.0199999999999996, 1.08, 1.1399999999999997, 1.2000000000000002, 1.2599999999999998, 1.3200000000000003, 1.38, 1.4399999999999995, 1.5, 1.5599999999999996, 1.62, 1.6799999999999997, 1.7400000000000002, 1.7999999999999998, 1.8599999999999994, 1.92, 1.9799999999999995, 2.04, 2.0999999999999996, 2.16, 2.2199999999999998, 2.2799999999999994, 2.34, 2.3999999999999995, 2.46, 2.5199999999999996, 2.58, 2.6399999999999997, 2.7, 2.76, 2.8199999999999994, 2.88, 2.9399999999999995, 3.0], \"xaxis\": \"x\", \"y\": [0.0044318484119380075, 0.00529634386531102, 0.0063067263962659275, 0.007482872525780564, 0.008846454398237232, 0.010420934814422592, 0.012231526351277971, 0.014305108994149692, 0.016670100837381057, 0.019356276731736965, 0.0223945302948429, 0.02581657547158769, 0.02965458484734125, 0.033940763182449214, 0.03870685614745561, 0.0439835959804272, 0.049800087735070775, 0.05618314190386805, 0.06315656143519865, 0.07074039345698338, 0.07895015830089415, 0.08779607061090564, 0.09728226933146747, 0.1074060751134838, 0.11815729505958228, 0.12951759566589174, 0.1414599652248388, 0.1539482867626337, 0.1669370417417138, 0.18037116322708033, 0.19418605498321292, 0.2083077900471083, 0.22265349875176116, 0.23713195201937962, 0.2516443410981171, 0.26608524989875487, 0.2803438108396206, 0.2943050297883251, 0.30785126046985295, 0.32086380377117246, 0.33322460289179967, 0.3448180014393334, 0.3555325285059971, 0.3652626726221539, 0.37391060537312837, 0.3813878154605241, 0.3876166151250141, 0.3925314831204289, 0.3960802117936561, 0.39822483019560695, 0.3989422804014327, 0.39822483019560695, 0.3960802117936561, 0.39253148312042896, 0.38761661512501416, 0.38138781546052414, 0.3739106053731284, 0.3652626726221539, 0.3555325285059971, 0.3448180014393334, 0.3332246028917997, 0.3208638037711726, 0.307851260469853, 0.2943050297883252, 0.2803438108396206, 0.26608524989875487, 0.2516443410981171, 0.2371319520193797, 0.22265349875176116, 0.20830779004710845, 0.19418605498321292, 0.18037116322708038, 0.16693704174171375, 0.15394828676263372, 0.14145996522483892, 0.12951759566589174, 0.11815729505958236, 0.1074060751134838, 0.09728226933146754, 0.0877960706109056, 0.07895015830089419, 0.07074039345698346, 0.06315656143519865, 0.0561831419038681, 0.049800087735070775, 0.04398359598042723, 0.03870685614745561, 0.033940763182449214, 0.029654584847341316, 0.02581657547158769, 0.02239453029484293, 0.019356276731736965, 0.016670100837381078, 0.014305108994149692, 0.012231526351277989, 0.010420934814422592, 0.008846454398237232, 0.007482872525780574, 0.0063067263962659275, 0.0052963438653110245, 0.0044318484119380075], \"yaxis\": \"y\"}, {\"line\": {\"color\": \"#ffc93c\", \"width\": 2.5}, \"name\": \"CDF\", \"type\": \"scatter\", \"x\": [-3.0, -2.94, -2.88, -2.82, -2.76, -2.7, -2.64, -2.58, -2.52, -2.46, -2.4, -2.34, -2.2800000000000002, -2.2199999999999998, -2.16, -2.1, -2.04, -1.98, -1.92, -1.86, -1.8, -1.74, -1.6800000000000002, -1.62, -1.56, -1.5, -1.44, -1.3800000000000001, -1.32, -1.26, -1.2000000000000002, -1.1400000000000001, -1.08, -1.02, -0.96, -0.8999999999999999, -0.8399999999999999, -0.7800000000000002, -0.7200000000000002, -0.6600000000000001, -0.6000000000000001, -0.54, -0.48, -0.41999999999999993, -0.3600000000000003, -0.30000000000000027, -0.2400000000000002, -0.18000000000000016, -0.1200000000000001, -0.06000000000000005, 0.0, 0.06000000000000005, 0.1200000000000001, 0.17999999999999972, 0.23999999999999977, 0.2999999999999998, 0.3599999999999999, 0.41999999999999993, 0.48, 0.54, 0.5999999999999996, 0.6599999999999997, 0.7199999999999998, 0.7799999999999998, 0.8399999999999999, 0.8999999999999999, 0.96, 1.0199999999999996, 1.08, 1.1399999999999997, 1.2000000000000002, 1.2599999999999998, 1.3200000000000003, 1.38, 1.4399999999999995, 1.5, 1.5599999999999996, 1.62, 1.6799999999999997, 1.7400000000000002, 1.7999999999999998, 1.8599999999999994, 1.92, 1.9799999999999995, 2.04, 2.0999999999999996, 2.16, 2.2199999999999998, 2.2799999999999994, 2.34, 2.3999999999999995, 2.46, 2.5199999999999996, 2.58, 2.6399999999999997, 2.7, 2.76, 2.8199999999999994, 2.88, 2.9399999999999995, 3.0], \"xaxis\": \"x2\", \"y\": [0.0013498980316300933, 0.0016410612341569964, 0.0019883758548943256, 0.0024011824741892525, 0.0028900680762261478, 0.0034669738030406647, 0.004145301361036037, 0.004940015757770645, 0.005867741715332562, 0.006946850788624312, 0.008197535924596131, 0.00964186994535833, 0.01130384423855278, 0.013209383807256284, 0.015386334783925445, 0.017864420562816542, 0.020675162866070042, 0.023851764341508513, 0.027428949703836802, 0.03144276298075271, 0.03593031911292579, 0.040929508978807365, 0.04647865786372002, 0.05261613845425206, 0.05937994059479304, 0.06680720126885807, 0.07493369953432708, 0.08379332241501425, 0.09341750899347179, 0.1038346811213004, 0.11506967022170828, 0.12714315056279818, 0.140071090088769, 0.15386423037273478, 0.16852760746683781, 0.18406012534675953, 0.20045419326044972, 0.217695437585733, 0.23576249777925112, 0.2546269146713361, 0.27425311775007355, 0.294598516215698, 0.31561369651622256, 0.3372427268482495, 0.3594235667820086, 0.38208857781104727, 0.4051651283022041, 0.4285762840990992, 0.4522415739794161, 0.4760778173458931, 0.5, 0.5239221826541068, 0.5477584260205839, 0.5714237159009006, 0.5948348716977958, 0.6179114221889526, 0.6405764332179912, 0.6627572731517505, 0.6843863034837774, 0.705401483784302, 0.7257468822499263, 0.7453730853286638, 0.7642375022207488, 0.7823045624142668, 0.7995458067395502, 0.8159398746532405, 0.8314723925331622, 0.846135769627265, 0.859928909911231, 0.8728568494372017, 0.8849303297782918, 0.8961653188786995, 0.9065824910065282, 0.9162066775849856, 0.925066300465673, 0.9331927987311419, 0.940620059405207, 0.9473838615457479, 0.9535213421362799, 0.9590704910211927, 0.9640696808870742, 0.9685572370192472, 0.9725710502961632, 0.9761482356584915, 0.9793248371339299, 0.9821355794371834, 0.9846136652160745, 0.9867906161927437, 0.9886961557614472, 0.9903581300546417, 0.9918024640754038, 0.9930531492113757, 0.9941322582846674, 0.9950599842422293, 0.9958546986389639, 0.9965330261969594, 0.9971099319237738, 0.9975988175258107, 0.9980116241451057, 0.998358938765843, 0.9986501019683699], \"yaxis\": \"y2\"}],                        {\"annotations\": [{\"font\": {\"size\": 16}, \"showarrow\": false, \"text\": \"Normal distribution (mean 0, stdev 1) - PDF\", \"x\": 0.225, \"xanchor\": \"center\", \"xref\": \"paper\", \"y\": 1.0, \"yanchor\": \"bottom\", \"yref\": \"paper\"}, {\"font\": {\"size\": 16}, \"showarrow\": false, \"text\": \"Area under the curve(from the left) - CDF\", \"x\": 0.775, \"xanchor\": \"center\", \"xref\": \"paper\", \"y\": 1.0, \"yanchor\": \"bottom\", \"yref\": \"paper\"}], \"plot_bgcolor\": \"#0f4c75\", \"template\": {\"data\": {\"bar\": [{\"error_x\": {\"color\": \"#2a3f5f\"}, \"error_y\": {\"color\": \"#2a3f5f\"}, \"marker\": {\"line\": {\"color\": \"#E5ECF6\", \"width\": 0.5}}, \"type\": \"bar\"}], \"barpolar\": [{\"marker\": {\"line\": {\"color\": \"#E5ECF6\", \"width\": 0.5}}, \"type\": \"barpolar\"}], \"carpet\": [{\"aaxis\": {\"endlinecolor\": \"#2a3f5f\", \"gridcolor\": \"white\", \"linecolor\": \"white\", \"minorgridcolor\": \"white\", \"startlinecolor\": \"#2a3f5f\"}, \"baxis\": {\"endlinecolor\": \"#2a3f5f\", \"gridcolor\": \"white\", \"linecolor\": \"white\", \"minorgridcolor\": \"white\", \"startlinecolor\": \"#2a3f5f\"}, \"type\": \"carpet\"}], \"choropleth\": [{\"colorbar\": {\"outlinewidth\": 0, \"ticks\": \"\"}, \"type\": \"choropleth\"}], \"contour\": [{\"colorbar\": {\"outlinewidth\": 0, \"ticks\": \"\"}, \"colorscale\": [[0.0, \"#0d0887\"], [0.1111111111111111, \"#46039f\"], [0.2222222222222222, \"#7201a8\"], [0.3333333333333333, \"#9c179e\"], [0.4444444444444444, \"#bd3786\"], [0.5555555555555556, \"#d8576b\"], [0.6666666666666666, \"#ed7953\"], [0.7777777777777778, \"#fb9f3a\"], [0.8888888888888888, \"#fdca26\"], [1.0, \"#f0f921\"]], \"type\": \"contour\"}], \"contourcarpet\": [{\"colorbar\": {\"outlinewidth\": 0, \"ticks\": \"\"}, \"type\": \"contourcarpet\"}], \"heatmap\": [{\"colorbar\": {\"outlinewidth\": 0, \"ticks\": \"\"}, \"colorscale\": [[0.0, \"#0d0887\"], [0.1111111111111111, \"#46039f\"], [0.2222222222222222, \"#7201a8\"], [0.3333333333333333, \"#9c179e\"], [0.4444444444444444, \"#bd3786\"], [0.5555555555555556, \"#d8576b\"], [0.6666666666666666, \"#ed7953\"], [0.7777777777777778, \"#fb9f3a\"], [0.8888888888888888, \"#fdca26\"], [1.0, \"#f0f921\"]], \"type\": \"heatmap\"}], \"heatmapgl\": [{\"colorbar\": {\"outlinewidth\": 0, \"ticks\": \"\"}, \"colorscale\": [[0.0, \"#0d0887\"], [0.1111111111111111, \"#46039f\"], [0.2222222222222222, \"#7201a8\"], [0.3333333333333333, \"#9c179e\"], [0.4444444444444444, \"#bd3786\"], [0.5555555555555556, \"#d8576b\"], [0.6666666666666666, \"#ed7953\"], [0.7777777777777778, \"#fb9f3a\"], [0.8888888888888888, \"#fdca26\"], [1.0, \"#f0f921\"]], \"type\": \"heatmapgl\"}], \"histogram\": [{\"marker\": {\"colorbar\": {\"outlinewidth\": 0, \"ticks\": \"\"}}, \"type\": \"histogram\"}], \"histogram2d\": [{\"colorbar\": {\"outlinewidth\": 0, \"ticks\": \"\"}, \"colorscale\": [[0.0, \"#0d0887\"], [0.1111111111111111, \"#46039f\"], [0.2222222222222222, \"#7201a8\"], [0.3333333333333333, \"#9c179e\"], [0.4444444444444444, \"#bd3786\"], [0.5555555555555556, \"#d8576b\"], [0.6666666666666666, \"#ed7953\"], [0.7777777777777778, \"#fb9f3a\"], [0.8888888888888888, \"#fdca26\"], [1.0, \"#f0f921\"]], \"type\": \"histogram2d\"}], \"histogram2dcontour\": [{\"colorbar\": {\"outlinewidth\": 0, \"ticks\": \"\"}, \"colorscale\": [[0.0, \"#0d0887\"], [0.1111111111111111, \"#46039f\"], [0.2222222222222222, \"#7201a8\"], [0.3333333333333333, \"#9c179e\"], [0.4444444444444444, \"#bd3786\"], [0.5555555555555556, \"#d8576b\"], [0.6666666666666666, \"#ed7953\"], [0.7777777777777778, \"#fb9f3a\"], [0.8888888888888888, \"#fdca26\"], [1.0, \"#f0f921\"]], \"type\": \"histogram2dcontour\"}], \"mesh3d\": [{\"colorbar\": {\"outlinewidth\": 0, \"ticks\": \"\"}, \"type\": \"mesh3d\"}], \"parcoords\": [{\"line\": {\"colorbar\": {\"outlinewidth\": 0, \"ticks\": \"\"}}, \"type\": \"parcoords\"}], \"pie\": [{\"automargin\": true, \"type\": \"pie\"}], \"scatter\": [{\"marker\": {\"colorbar\": {\"outlinewidth\": 0, \"ticks\": \"\"}}, \"type\": \"scatter\"}], \"scatter3d\": [{\"line\": {\"colorbar\": {\"outlinewidth\": 0, \"ticks\": \"\"}}, \"marker\": {\"colorbar\": {\"outlinewidth\": 0, \"ticks\": \"\"}}, \"type\": \"scatter3d\"}], \"scattercarpet\": [{\"marker\": {\"colorbar\": {\"outlinewidth\": 0, \"ticks\": \"\"}}, \"type\": \"scattercarpet\"}], \"scattergeo\": [{\"marker\": {\"colorbar\": {\"outlinewidth\": 0, \"ticks\": \"\"}}, \"type\": \"scattergeo\"}], \"scattergl\": [{\"marker\": {\"colorbar\": {\"outlinewidth\": 0, \"ticks\": \"\"}}, \"type\": \"scattergl\"}], \"scattermapbox\": [{\"marker\": {\"colorbar\": {\"outlinewidth\": 0, \"ticks\": \"\"}}, \"type\": \"scattermapbox\"}], \"scatterpolar\": [{\"marker\": {\"colorbar\": {\"outlinewidth\": 0, \"ticks\": \"\"}}, \"type\": \"scatterpolar\"}], \"scatterpolargl\": [{\"marker\": {\"colorbar\": {\"outlinewidth\": 0, \"ticks\": \"\"}}, \"type\": \"scatterpolargl\"}], \"scatterternary\": [{\"marker\": {\"colorbar\": {\"outlinewidth\": 0, \"ticks\": \"\"}}, \"type\": \"scatterternary\"}], \"surface\": [{\"colorbar\": {\"outlinewidth\": 0, \"ticks\": \"\"}, \"colorscale\": [[0.0, \"#0d0887\"], [0.1111111111111111, \"#46039f\"], [0.2222222222222222, \"#7201a8\"], [0.3333333333333333, \"#9c179e\"], [0.4444444444444444, \"#bd3786\"], [0.5555555555555556, \"#d8576b\"], [0.6666666666666666, \"#ed7953\"], [0.7777777777777778, \"#fb9f3a\"], [0.8888888888888888, \"#fdca26\"], [1.0, \"#f0f921\"]], \"type\": \"surface\"}], \"table\": [{\"cells\": {\"fill\": {\"color\": \"#EBF0F8\"}, \"line\": {\"color\": \"white\"}}, \"header\": {\"fill\": {\"color\": \"#C8D4E3\"}, \"line\": {\"color\": \"white\"}}, \"type\": \"table\"}]}, \"layout\": {\"annotationdefaults\": {\"arrowcolor\": \"#2a3f5f\", \"arrowhead\": 0, \"arrowwidth\": 1}, \"autotypenumbers\": \"strict\", \"coloraxis\": {\"colorbar\": {\"outlinewidth\": 0, \"ticks\": \"\"}}, \"colorscale\": {\"diverging\": [[0, \"#8e0152\"], [0.1, \"#c51b7d\"], [0.2, \"#de77ae\"], [0.3, \"#f1b6da\"], [0.4, \"#fde0ef\"], [0.5, \"#f7f7f7\"], [0.6, \"#e6f5d0\"], [0.7, \"#b8e186\"], [0.8, \"#7fbc41\"], [0.9, \"#4d9221\"], [1, \"#276419\"]], \"sequential\": [[0.0, \"#0d0887\"], [0.1111111111111111, \"#46039f\"], [0.2222222222222222, \"#7201a8\"], [0.3333333333333333, \"#9c179e\"], [0.4444444444444444, \"#bd3786\"], [0.5555555555555556, \"#d8576b\"], [0.6666666666666666, \"#ed7953\"], [0.7777777777777778, \"#fb9f3a\"], [0.8888888888888888, \"#fdca26\"], [1.0, \"#f0f921\"]], \"sequentialminus\": [[0.0, \"#0d0887\"], [0.1111111111111111, \"#46039f\"], [0.2222222222222222, \"#7201a8\"], [0.3333333333333333, \"#9c179e\"], [0.4444444444444444, \"#bd3786\"], [0.5555555555555556, \"#d8576b\"], [0.6666666666666666, \"#ed7953\"], [0.7777777777777778, \"#fb9f3a\"], [0.8888888888888888, \"#fdca26\"], [1.0, \"#f0f921\"]]}, \"colorway\": [\"#636efa\", \"#EF553B\", \"#00cc96\", \"#ab63fa\", \"#FFA15A\", \"#19d3f3\", \"#FF6692\", \"#B6E880\", \"#FF97FF\", \"#FECB52\"], \"font\": {\"color\": \"#2a3f5f\"}, \"geo\": {\"bgcolor\": \"white\", \"lakecolor\": \"white\", \"landcolor\": \"#E5ECF6\", \"showlakes\": true, \"showland\": true, \"subunitcolor\": \"white\"}, \"hoverlabel\": {\"align\": \"left\"}, \"hovermode\": \"closest\", \"mapbox\": {\"style\": \"light\"}, \"paper_bgcolor\": \"white\", \"plot_bgcolor\": \"#E5ECF6\", \"polar\": {\"angularaxis\": {\"gridcolor\": \"white\", \"linecolor\": \"white\", \"ticks\": \"\"}, \"bgcolor\": \"#E5ECF6\", \"radialaxis\": {\"gridcolor\": \"white\", \"linecolor\": \"white\", \"ticks\": \"\"}}, \"scene\": {\"xaxis\": {\"backgroundcolor\": \"#E5ECF6\", \"gridcolor\": \"white\", \"gridwidth\": 2, \"linecolor\": \"white\", \"showbackground\": true, \"ticks\": \"\", \"zerolinecolor\": \"white\"}, \"yaxis\": {\"backgroundcolor\": \"#E5ECF6\", \"gridcolor\": \"white\", \"gridwidth\": 2, \"linecolor\": \"white\", \"showbackground\": true, \"ticks\": \"\", \"zerolinecolor\": \"white\"}, \"zaxis\": {\"backgroundcolor\": \"#E5ECF6\", \"gridcolor\": \"white\", \"gridwidth\": 2, \"linecolor\": \"white\", \"showbackground\": true, \"ticks\": \"\", \"zerolinecolor\": \"white\"}}, \"shapedefaults\": {\"line\": {\"color\": \"#2a3f5f\"}}, \"ternary\": {\"aaxis\": {\"gridcolor\": \"white\", \"linecolor\": \"white\", \"ticks\": \"\"}, \"baxis\": {\"gridcolor\": \"white\", \"linecolor\": \"white\", \"ticks\": \"\"}, \"bgcolor\": \"#E5ECF6\", \"caxis\": {\"gridcolor\": \"white\", \"linecolor\": \"white\", \"ticks\": \"\"}}, \"title\": {\"x\": 0.05}, \"xaxis\": {\"automargin\": true, \"gridcolor\": \"white\", \"linecolor\": \"white\", \"ticks\": \"\", \"title\": {\"standoff\": 15}, \"zerolinecolor\": \"white\", \"zerolinewidth\": 2}, \"yaxis\": {\"automargin\": true, \"gridcolor\": \"white\", \"linecolor\": \"white\", \"ticks\": \"\", \"title\": {\"standoff\": 15}, \"zerolinecolor\": \"white\", \"zerolinewidth\": 2}}}, \"xaxis\": {\"anchor\": \"y\", \"domain\": [0.0, 0.45], \"showgrid\": false}, \"xaxis2\": {\"anchor\": \"y2\", \"domain\": [0.55, 1.0], \"showgrid\": false}, \"yaxis\": {\"anchor\": \"x\", \"domain\": [0.0, 1.0], \"showgrid\": false}, \"yaxis2\": {\"anchor\": \"x2\", \"domain\": [0.0, 1.0], \"showgrid\": false}},                        {\"responsive\": true}                    ).then(function(){\n",
       "                            \n",
       "var gd = document.getElementById('bcaef920-c744-42a8-926d-cb2c67189cc0');\n",
       "var x = new MutationObserver(function (mutations, observer) {{\n",
       "        var display = window.getComputedStyle(gd).display;\n",
       "        if (!display || display === 'none') {{\n",
       "            console.log([gd, 'removed!']);\n",
       "            Plotly.purge(gd);\n",
       "            observer.disconnect();\n",
       "        }}\n",
       "}});\n",
       "\n",
       "// Listen for the removal of the full notebook cells\n",
       "var notebookContainer = gd.closest('#notebook-container');\n",
       "if (notebookContainer) {{\n",
       "    x.observe(notebookContainer, {childList: true});\n",
       "}}\n",
       "\n",
       "// Listen for the clearing of the current output cell\n",
       "var outputEl = gd.closest('.output');\n",
       "if (outputEl) {{\n",
       "    x.observe(outputEl, {childList: true});\n",
       "}}\n",
       "\n",
       "                        })                };                });            </script>        </div>"
      ]
     },
     "metadata": {},
     "output_type": "display_data"
    }
   ],
   "source": [
    "import numpy as np\n",
    "from plotly.subplots import make_subplots\n",
    "import plotly.graph_objects as go\n",
    "from scipy.stats import norm\n",
    "import warnings\n",
    "warnings.filterwarnings('ignore')\n",
    "\n",
    "values = np.linspace(-3, 3, num = 101)\n",
    "proba = norm.pdf(values)\n",
    "cdfproba = norm.cdf(values)\n",
    "\n",
    "fig = make_subplots(rows=1, cols=2, \n",
    "                    subplot_titles=['Normal distribution (mean 0, stdev 1) - PDF',\n",
    "                                                    'Area under the curve(from the left) - CDF'])\n",
    "\n",
    "fig.add_trace(\n",
    "    go.Line(x=values, y=proba, name = 'PDF',line = dict(color='#ffc93c', width=2.5)),\n",
    "    row=1, col=1\n",
    ")\n",
    "\n",
    "fig.add_trace(\n",
    "    go.Line(x=values, y=cdfproba, name = 'CDF',line=dict(color='#ffc93c', width=2.5)),\n",
    "    row=1, col=2\n",
    ")\n",
    "fig.update_layout(plot_bgcolor='#0f4c75')\n",
    "fig.update_xaxes(showgrid=False)\n",
    "fig.update_yaxes(showgrid=False)\n",
    "fig.show()\n"
   ]
  },
  {
   "cell_type": "markdown",
   "metadata": {},
   "source": [
    "_I encourage you to try this out with a simple option on excel with strike 100 and maturity 2yrs with different stock price levels on Excel. You can verify the prices on this [pricer](https://www.mystockoptions.com/black-scholes.cfm)_"
   ]
  },
  {
   "cell_type": "markdown",
   "metadata": {},
   "source": [
    "<br>\n",
    "<h3><center>From Black and Scholes to Heston</center></h3>\n",
    "\n",
    "**Note: Take the functions as is. Implementing the pricer will give more intuition. You can look at the derivation afterwards**\n",
    "\n",
    "We can observe from the B&S formula that what we have as $N()$ are simply probability functions. In a general set up, we could have different distributions other than the normal. \n",
    "\n",
    "Also, the two distributions could be different. In a sense, what the B&S formula establishes as a framework is that we can price options using the following blueprint:\n",
    "\n",
    "$$C = S_t \\times P_1(S_T > K) - Ke^{-rt} \\times P_2(S_T > K)$$\n",
    "\n",
    "In the B&S, the $P_1$ and $P_2$ are simply the $N()$ with different inputs.\n",
    "\n",
    "For the Heston, we introduce a bit more complexity into these $P$ functions. We define $P_1$ and $P_2$ differently. The principle remains the same nonetheless, albeit with quite a leap in complication.\n",
    "\n",
    "The Heston equity pricing formula is defined as:\n",
    "\n",
    "$$C = S_t \\times P_1(S_T > K) - Ke^{-rt} \\times P_2(S_T > K)$$\n",
    "\n",
    "$$where:$$\n",
    "\n",
    "$$x = ln S_t$$\n",
    "\n",
    "$$P_1 = \\frac{1}{2} + \\frac{1}{\\pi} \\int_0^{\\infty} Re\\left[\\frac{e^{-is \\,ln K} f_1(s,\\nu, x)}{is}\\right]ds$$\n",
    "\n",
    "$$P_2 = \\frac{1}{2} + \\frac{1}{\\pi} \\int_0^{\\infty} Re\\left[\\frac{e^{-is \\,ln K} f_2(s,\\nu, x)}{is}\\right]ds$$\n",
    "\n",
    "We note that the functions have the same structure and only differ by the definitions of the functions $f$. We can therefore define $j$ to be either 1 or 2 and have a general function $P_j$. Therefore:\n",
    "\n",
    "$$P_j = \\frac{1}{2} + \\frac{1}{\\pi} \\int_0^{\\inf} Re\\left[\\frac{e^{-is \\,ln K} f_j(s,\\nu, x)}{is}\\right]ds$$\n",
    "\n",
    "$$for j \\in \\{1, 2\\}$$\n",
    "\n",
    "**Side Note 1:**\n",
    "\n",
    "It is important to note that the parameters of the Heston model are: $\\rho, \\sigma, \\nu, \\kappa, \\theta$. We have an additional parameter $\\lambda$ but we set this to 0 so we don't have to worry about it.\n",
    "\n",
    "These parameters are the equivalent of the $\\sigma$ parameter in B&S. What we will do, is write a solver that finds these parameters based on market prices.\n",
    "\n",
    "Changes in these parameters will tell us if the market is over or underpriced.\n",
    "\n",
    "**Side Note 2:**\n",
    "\n",
    "I'm sure you see the $Re$ on the integral. This just means there are complex numbers in the formula. We will deal with these in the implementation of the pricer. \n",
    "\n",
    "You'll find that in practice, this is very close to the normal integral where you would split the graph into smaller rectangles and calculate the area of the rectangles using the mid-point!\n",
    "\n",
    "\n",
    "<br>\n",
    "<br>\n",
    "<h3><center>Defining the f functions</center></h3>\n",
    "\n",
    "The $f$ functions are known as **characteristic functions** Details are provided in the Annex but the important thing to understand is that any probability distribution can be defined as an exponential form of a specific characteristic function.\n",
    "\n",
    "For probabilities that are difficult to compute, this provides a very convenient way of calculation since we always know that if we have a characteristic function, we can calculate the probability distribution. This is one of the pioneering aspects of the Heston model.\n",
    "\n",
    "Heston defined these $f$ functions for each $j$ as follows(We use the dot(.) sign for multiplication):\n",
    "$$s \\,from \\, integral \\,above$$\n",
    "$$x = ln(S_t)$$\n",
    "$$\\tau =  T- t$$\n",
    "<br>\n",
    "<br>\n",
    "$$f_j(s,\\nu, x) = exp(C_j(\\tau, s) + D_j(\\tau, s).\\nu + i.s.x)$$\n",
    "<br>\n",
    "<br>\n",
    "Before defining $C_j$ and $D_j$, we simplify some elements of these functions that will be of use to us. We define two variables: $d_j$ and $g_j$\n",
    "<br>\n",
    "<br>\n",
    "$$d_j = \\sqrt{(\\rho.\\sigma.i.s)^2 - \\sigma^2.(2.u_j.i.s - s^2)}$$\n",
    "$$g_j = \\frac{b_j - \\rho.\\sigma.i.s + d_j}{b_j - \\rho.\\sigma.i.s - d_j}$$\n",
    "<br>\n",
    "<br>\n",
    "$$where: u_1 = 0.5, u_2 = 0.5$$\n",
    "$$and: b_1 = \\kappa - \\rho.\\sigma, b_2 = \\kappa$$\n",
    "<br>\n",
    "<br>\n",
    "**Note: These simple changes make the only difference between the two P functions. That is why it is easier to use the j subscript.**\n",
    "\n",
    "Finally, we can define our functions. We use $BRS$ as a short form because the expression is used a lot:\n",
    "$$let \\,BRS = b_j - \\rho.\\sigma.i.s + d_j$$\n",
    "<br>\n",
    "<br>\n",
    "$$C_j(\\tau, s) = r.i.s.\\tau + \\frac{\\kappa  \\theta}{\\sigma^2}\\left[ (BRS).\\tau - 2 ln \\left(\\frac{1 - g_j.e^{d_j.\\tau}}{1 - g_j}\\right)\\right]$$\n",
    "<br>\n",
    "<br>\n",
    "$$D_j = \\frac{BRS}{\\sigma^2} \\left(\\frac{1 - e^{d_j.\\tau}}{1 - g_j.e^{d_j.\\tau}} \\right)$$"
   ]
  },
  {
   "cell_type": "markdown",
   "metadata": {},
   "source": [
    "<br>\n",
    "<br>\n",
    "<h4><center> Final Formula </center></h4>\n",
    "\n",
    "Our final formula therefore is:\n",
    "\n",
    "$$C = S_t . P_1(S_T > K) - Ke^{-rt} . P_2(S_T > K)$$\n",
    "<br>\n",
    "<br>\n",
    "which is just:\n",
    "<br>\n",
    "<br>\n",
    "$$C = S_t .\\left[\\frac{1}{2} + \\frac{1}{\\pi} \\int_0^{\\inf} Re\\left[\\frac{e^{-is \\,ln K} f_1(s,\\nu, x)}{is}\\right]ds\\right] - Ke^{-rt}\\left[\\frac{1}{2} + \\frac{1}{\\pi} \\int_0^{\\inf} Re\\left[\\frac{e^{-is \\,ln K} f_2(s,\\nu, x)}{is}\\right]ds\\right]$$\n",
    "<br>\n",
    "<br>\n",
    "where:\n",
    "$$f_j(s,\\nu, x) = exp(C_j(\\tau, s) + D_j(\\tau, s).\\nu + i.s.x)$$\n",
    "<br>\n",
    "<br>\n",
    "and assuming:\n",
    "<br>\n",
    "<br>\n",
    "$$d_j = \\sqrt{(\\rho.\\sigma.i.s)^2 - \\sigma^2.(2.u_j.i.s - s^2)}$$\n",
    "$$g_j = \\frac{b_j - \\rho.\\sigma.i.s + d_j}{b_j - \\rho.\\sigma.i.s - d_j}$$\n",
    "<br>\n",
    "<br>\n",
    "$$where: u_1 = 0.5, u_2 = 0.5$$\n",
    "$$and: b_1 = \\kappa - \\rho.\\sigma, b_2 = \\kappa$$\n",
    "<br>\n",
    "<br>\n",
    "then: \n",
    "$$let \\,BRS = b_j - \\rho.\\sigma.i.s + d_j$$\n",
    "$$C_j(\\tau, s) = r.i.s.\\tau + \\frac{\\kappa  \\theta}{\\sigma^2}\\left[ (BRS).\\tau - 2 ln \\left(\\frac{1 - g_j.e^{d_j.\\tau}}{1 - g_j}\\right)\\right]$$\n",
    "<br>\n",
    "<br>\n",
    "$$D_j = \\frac{BRS}{\\sigma^2} \\left(\\frac{1 - e^{d_j.\\tau}}{1 - g_j.e^{d_j.\\tau}} \\right)$$<br>\n",
    "<br>\n",
    "<br>\n",
    "<br>\n",
    "<br>\n",
    "<h3><center>Simplified (Single Integral) Formula</center></h3>\n",
    "\n",
    "It's easier to implement this formula under a single integral. After all, when you're pricing or calibrating an option surface with 100 - 200 options, you want to make sure your calculations are as fast as possible.\n",
    "\n",
    "In the final section we show how to move from the 2 part formula to the formula below which is much easier to implement:\n",
    "<br>\n",
    "<br>\n",
    "$$C = \\frac{1}{2}(S_t - Ke^{-r(T-t)}) + \\frac{1}{\\pi} \\int_0^{\\infty}Re\\left[ e^{r(T-t)}\\frac{f(s-i)}{is. K^{is}} - K\\frac{f(s)}{is. K^{is}}\\right] ds$$\n",
    "<br>\n",
    "<br>\n",
    "$$where:$$\n",
    "<br>\n",
    "<br>\n",
    "$$f(x) = e^{ixrT}S_t^{ix} \\left(\\frac{1 - g.e^{d.\\tau}}{1 - g}\\right)^{\\frac{-2\\kappa \\theta}{\\sigma^2}} \\times \n",
    "exp{\\left[\\frac{\\tau\\kappa \\theta}{\\sigma^2} (\\kappa - \\kappa\\rho.i.x- d) + \\frac{\\nu}{\\sigma^2} (\\kappa - \\kappa\\rho.i.x- d) \\frac{1 - e^{d_j.\\tau}}{1 - g_j.e^{d_j.\\tau}}\\right]}$$\n",
    "<br>\n",
    "<br>\n",
    "$$and$$\n",
    "<br>\n",
    "<br>\n",
    "$$d = \\sqrt{(\\rho.\\sigma.i.x)^2 - \\sigma^2.(2.i.x - x^2)}$$\n",
    "$$g = \\frac{\\kappa - \\rho.\\sigma.i.x + d}{\\kappa - \\rho.\\sigma.i.x - d}$$\n"
   ]
  },
  {
   "cell_type": "markdown",
   "metadata": {},
   "source": [
    "<br>\n",
    "<br>\n",
    "<h3><center>Python Implementation</center></h3>\n",
    "\n",
    "In our implementation, we will go from the last expression in our formula and build up until we arrive at the integrals. \n",
    "\n",
    "Our workflow should be:\n",
    "\n",
    "1. Define a function f where\n",
    "    - Define d and g\n",
    "    - Compute the first exponential $e^{rT}S...$\n",
    "    - Compute the second exponential $exp\\left[\\frac{\\tau\\kappa\\theta}{\\sigma^2} ...\\right]$\n",
    "    - Multiply these two\n",
    "<br>\n",
    "<br>\n",
    "2. Compute the integral\n",
    "\n",
    "<h3><center>1. Defining f (fHeston)</center></h3>\n",
    "So we start by breaking down this monster of a function. We'll start by defining $f$ as `fHeston` with inputs `s, St, K, r, T, sigma, kappa, theta, volvol, rho` representing our inputs and the model parameters {$\\sigma, \\kappa, \\theta, \\nu,\\rho $} respectively.\n",
    "\n",
    "Because our function will be using complex numbers, we can just define `i` as a global variable. Every complex number will essentially just be an operation on `i`.\n",
    "\n",
    "You'll also note that in the implementation, you can just treat `i` like any other variable and you should be fine. So no worries if you're not sure how to work with complex numbers!\n"
   ]
  },
  {
   "cell_type": "code",
   "execution_count": 3,
   "metadata": {},
   "outputs": [],
   "source": [
    "import numpy as np\n",
    "\n",
    "i = complex(0,1)\n",
    "u = 1"
   ]
  },
  {
   "cell_type": "markdown",
   "metadata": {},
   "source": [
    "We can see that the expression $\\rho.\\sigma.i.s$ is used quite a lot. We can define this beforehand and just call it `prod`"
   ]
  },
  {
   "cell_type": "code",
   "execution_count": 4,
   "metadata": {},
   "outputs": [],
   "source": [
    "# To be used in the Heston pricer\n",
    "def fHeston(s, St, K, r, T, sigma, kappa, theta, volvol, rho):\n",
    "    # To be used a lot\n",
    "    prod = rho * sigma *i *s "
   ]
  },
  {
   "cell_type": "markdown",
   "metadata": {},
   "source": [
    "Next, we split calculate `d`. You can do this on one line but it's a bit easier to read when you split the expression into smaller parts. Note that this is all still within the function"
   ]
  },
  {
   "cell_type": "code",
   "execution_count": 5,
   "metadata": {},
   "outputs": [],
   "source": [
    "# To be used in the Heston pricer\n",
    "def fHeston(u, St, K, r, T, sigma, kappa, theta, volvol, rho):\n",
    "    # To be used a lot\n",
    "    prod = rho * sigma *i *u \n",
    "    \n",
    "    # Calculate d\n",
    "    d1 = (prod - kappa)**2\n",
    "    d2 = (sigma**2) * (i*u + u**2)\n",
    "    d = np.sqrt(d1 + d2)\n",
    "    "
   ]
  },
  {
   "cell_type": "markdown",
   "metadata": {},
   "source": [
    "We do the same for `g`"
   ]
  },
  {
   "cell_type": "code",
   "execution_count": 6,
   "metadata": {},
   "outputs": [],
   "source": [
    "# To be used in the Heston pricer\n",
    "def fHeston(u, St, K, r, T, sigma, kappa, theta, volvol, rho):\n",
    "    # To be used a lot\n",
    "    prod = rho * sigma *i *u \n",
    "    \n",
    "    # Calculate d\n",
    "    d1 = (prod - kappa)**2\n",
    "    d2 = (sigma**2) * (i*u + u**2)\n",
    "    d = np.sqrt(d1 + d2)\n",
    "    \n",
    "    # Calculate g\n",
    "    g1 = kappa - prod - d\n",
    "    g2 = kappa - prod + d\n",
    "    g = g1/g2"
   ]
  },
  {
   "cell_type": "markdown",
   "metadata": {},
   "source": [
    "Next we calculate the first exponential by splitting it into 3 parts and combining the computations. Again, this is just to make it easier to find bugs. It doesn't cost anything computation-wise:\n",
    "    $$e^{irxT}S_t^{ix} \\left(\\frac{1 - g.e^{d.\\tau}}{1 - g}\\right)^{\\frac{-2\\kappa \\theta}{\\sigma^2}}$$"
   ]
  },
  {
   "cell_type": "code",
   "execution_count": 7,
   "metadata": {},
   "outputs": [],
   "source": [
    "# To be used in the Heston pricer\n",
    "def fHeston(u, St, K, r, T, sigma, kappa, theta, volvol, rho):\n",
    "    # To be used a lot\n",
    "    prod = rho * sigma *i *u \n",
    "    \n",
    "    # Calculate d\n",
    "    d1 = (prod - kappa)**2\n",
    "    d2 = (sigma**2) * (i*u + u**2)\n",
    "    d = np.sqrt(d1 + d2)\n",
    "    \n",
    "    # Calculate g\n",
    "    g1 = kappa - prod - d\n",
    "    g2 = kappa - prod + d\n",
    "    g = g1/g2\n",
    "    \n",
    "    # Calculate first exponential\n",
    "    exp1 = np.exp(np.log(St) * i *u) * np.exp(i * u* r* T)\n",
    "    exp2 = 1 - g * np.exp(-d *T)\n",
    "    exp3 = 1- g\n",
    "    mainExp1 = exp1 * np.power(exp2/ exp3, -2 * theta * kappa/(sigma **2))\n",
    "    "
   ]
  },
  {
   "cell_type": "markdown",
   "metadata": {},
   "source": [
    "Finally, we compute the final exponential element to and find the product of the two to obtain our `fHeston`."
   ]
  },
  {
   "cell_type": "code",
   "execution_count": 8,
   "metadata": {},
   "outputs": [],
   "source": [
    "import numpy as np\n",
    "\n",
    "i = complex(0,1)\n",
    "u = 1\n",
    "\n",
    "# To be used in the Heston pricer\n",
    "def fHeston(u, St, K, r, T, sigma, kappa, theta, volvol, rho):\n",
    "    # To be used a lot\n",
    "    prod = rho * sigma *i *u \n",
    "    \n",
    "    # Calculate d\n",
    "    d1 = (prod - kappa)**2\n",
    "    d2 = (sigma**2) * (i*u + u**2)\n",
    "    d = np.sqrt(d1 + d2)\n",
    "    \n",
    "    # Calculate g\n",
    "    g1 = kappa - prod - d\n",
    "    g2 = kappa - prod + d\n",
    "    g = g1/g2\n",
    "    \n",
    "    # Calculate first exponential\n",
    "    exp1 = np.exp(np.log(St) * i *u) * np.exp(i * u* r* T)\n",
    "    exp2 = 1 - g * np.exp(-d *T)\n",
    "    exp3 = 1- g\n",
    "    mainExp1 = exp1 * np.power(exp2/ exp3, -2 * theta * kappa/(sigma **2))\n",
    "    \n",
    "    # Calculate second exponential\n",
    "    exp4 = theta * kappa * T/(sigma **2)\n",
    "    exp5 = volvol/(sigma **2)\n",
    "    exp6 = (1 - np.exp(-d * T))/(1 - g * np.exp(-d * T))\n",
    "    mainExp2 = np.exp((exp4 * g1) + (exp5 *g1 * exp6))\n",
    "    \n",
    "    return (mainExp1 * mainExp2)\n"
   ]
  },
  {
   "cell_type": "markdown",
   "metadata": {},
   "source": [
    "<h3><center>2. Computing the integral</center></h3>\n",
    "\n",
    "<h4>Selecting a limit</h4>\n",
    "Because our integral goes up to infinity, we cannot have something running continuously.\n",
    "\n",
    "So what we do, is select a large limit that allows our integral to _converge._ By convergence, we simply mean that at some point, the additional areas under the curve we're calculating are so small that they're insignificant.\n",
    "\n",
    "Essentiallym if we find a number big enough, we can get accurate prices without having to pay a big computational cost.\n",
    "\n",
    "In our case, we selected `100`. You can try this with different values to see how it works.\n",
    "\n",
    "\n",
    "<h4>Selecting an integration scheme</h4>\n",
    "\n",
    "To compute our integral, we'll use a very simple integration scheme. This is the scheme we all used in elementary school. We simply split our area into rectangles and find the mid point. We use this mid point to calculate the area of each rectangle and sum them together.\n",
    "\n",
    "In our case, we initialize `P`,  the final price, as `0`, we split our area into `1000` rectangles and fix the limit to `100`.\n",
    "\n",
    "So in essence, the width of each rectangle will be `du = 100/1000`.\n",
    "\n",
    "We also calculate the first part $\\left(\\frac{1}{2}(S_t - Ke^{-r(T-t)})\\right)$before starting on the integral:\n"
   ]
  },
  {
   "cell_type": "code",
   "execution_count": 9,
   "metadata": {},
   "outputs": [],
   "source": [
    "# Heston Pricer\n",
    "def priceHestonMid(St, K, r, T, sigma, kappa, theta, volvol, rho):\n",
    "    P, iterations, maxNumber = 0,1000,100\n",
    "    du = maxNumber/iterations\n",
    "    \n",
    "    element1 = 0.5 * (St - K * np.exp(-r * T))"
   ]
  },
  {
   "cell_type": "markdown",
   "metadata": {},
   "source": [
    "We define `u1` and `u2` as defined in the formula.\n",
    "\n",
    "You observe that we increment `u1` at each run of the loop. For example, at `j=1`, we make `u1 = du * (2*1 +1)/2` which i just `u1 = du * 1.5`.\n",
    "\n",
    "When `j=2`, then `u1 = du * (2*2 +1)/2` which is `u1 = 2.5 * du`. This verifies our mid point rule for the integration. \n",
    "\n",
    "You'll also note that we don't start from `0`. This is because going close to 0 may mean dividing a number by 0. Of course that'll be a problem."
   ]
  },
  {
   "cell_type": "code",
   "execution_count": 10,
   "metadata": {},
   "outputs": [],
   "source": [
    "# Heston Pricer\n",
    "def priceHestonMid(St, K, r, T, sigma, kappa, theta, volvol, rho):\n",
    "    P, iterations, maxNumber = 0,1000,100\n",
    "    du = maxNumber/iterations\n",
    "    \n",
    "    element1 = 0.5 * (St - K * np.exp(-r * T))\n",
    "    \n",
    "    # Calculate the complex integral\n",
    "    # Using j instead of i to avoid confusion\n",
    "    for j in range(1, iterations):\n",
    "        u1 = du * (2*j + 1)/2\n",
    "        u2 = u1 - i\n",
    "        \n",
    "        numerator1 = fHeston(u2,  St, K, r, T, sigma, kappa, theta, volvol, rho)\n",
    "        numerator2 = K * fHeston(u1,  St, K, r, T, sigma, kappa, theta, volvol, rho)\n",
    "        denominator = np.exp(np.log(K) * i * u1) *i *u1\n"
   ]
  },
  {
   "cell_type": "markdown",
   "metadata": {},
   "source": [
    "So at this point, we have the width of all our rectangles, and the height is simply the value from the `fHeston` as we move along our x axis.\n",
    "\n",
    "The sum of the results from `fHeston` divided by the denominator are our height. So we can now just calculate our areas and sum them together."
   ]
  },
  {
   "cell_type": "code",
   "execution_count": 11,
   "metadata": {},
   "outputs": [],
   "source": [
    "# Heston Pricer\n",
    "def priceHestonMid(St, K, r, T, sigma, kappa, theta, volvol, rho):\n",
    "    P, iterations, maxNumber = 0,1000,100\n",
    "    du = maxNumber/iterations\n",
    "    \n",
    "    element1 = 0.5 * (St - K * np.exp(-r * T))\n",
    "    \n",
    "    # Calculate the complex integral\n",
    "    # Using j instead of i to avoid confusion\n",
    "    for j in range(1, iterations):\n",
    "        u1 = du * (2*j + 1)/2\n",
    "        u2 = u1 - i\n",
    "        \n",
    "        numerator1 = fHeston(u2,  St, K, r, T, sigma, kappa, theta, volvol, rho)\n",
    "        numerator2 = K * fHeston(u1,  St, K, r, T, sigma, kappa, theta, volvol, rho)\n",
    "        denominator = np.exp(np.log(K) * i * u1) *i *u1\n",
    "        \n",
    "        P += du *(numerator1 - numerator2)/denominator\n",
    "    \n",
    "    element2 = P/np.pi\n",
    "    \n",
    "    return np.real((element1 + element2))"
   ]
  },
  {
   "cell_type": "markdown",
   "metadata": {},
   "source": [
    "<h2><center> Full Pricer </center></h2>"
   ]
  },
  {
   "cell_type": "code",
   "execution_count": 12,
   "metadata": {},
   "outputs": [],
   "source": [
    "import numpy as np\n",
    "\n",
    "i = complex(0,1)\n",
    "u = 1\n",
    "\n",
    "# To be used in the Heston pricer\n",
    "def fHeston(u, St, K, r, T, sigma, kappa, theta, volvol, rho):\n",
    "    # To be used a lot\n",
    "    prod = rho * sigma *i *u \n",
    "    \n",
    "    # Calculate d\n",
    "    d1 = (prod - kappa)**2\n",
    "    d2 = (sigma**2) * (i*u + u**2)\n",
    "    d = np.sqrt(d1 + d2)\n",
    "    \n",
    "    # Calculate g\n",
    "    g1 = kappa - prod - d\n",
    "    g2 = kappa - prod + d\n",
    "    g = g1/g2\n",
    "    \n",
    "    # Calculate first exponential\n",
    "    exp1 = np.exp(np.log(St) * i *u) * np.exp(i * u* r* T)\n",
    "    exp2 = 1 - g * np.exp(-d *T)\n",
    "    exp3 = 1- g\n",
    "    mainExp1 = exp1 * np.power(exp2/ exp3, -2 * theta * kappa/(sigma **2))\n",
    "    \n",
    "    # Calculate second exponential\n",
    "    exp4 = theta * kappa * T/(sigma **2)\n",
    "    exp5 = volvol/(sigma **2)\n",
    "    exp6 = (1 - np.exp(-d * T))/(1 - g * np.exp(-d * T))\n",
    "    mainExp2 = np.exp((exp4 * g1) + (exp5 *g1 * exp6))\n",
    "    \n",
    "    return (mainExp1 * mainExp2)\n",
    "\n",
    "# Heston Pricer\n",
    "def priceHestonMid(St, K, r, T, sigma, kappa, theta, volvol, rho):\n",
    "    P, iterations, maxNumber = 0,1000,100\n",
    "    du = maxNumber/iterations\n",
    "    \n",
    "    element1 = 0.5 * (St - K * np.exp(-r * T))\n",
    "    \n",
    "    # Calculate the complex integral\n",
    "    # Using j instead of i to avoid confusion\n",
    "    for j in range(1, iterations):\n",
    "        u1 = du * (2*j + 1)/2\n",
    "        u2 = u1 - i\n",
    "        \n",
    "        numerator1 = fHeston(u2,  St, K, r, T, sigma, kappa, theta, volvol, rho)\n",
    "        numerator2 = K * fHeston(u1,  St, K, r, T, sigma, kappa, theta, volvol, rho)\n",
    "        denominator = np.exp(np.log(K) * i * u1) *i *u1\n",
    "        \n",
    "        P += du *(numerator1 - numerator2)/denominator\n",
    "    \n",
    "    element2 = P/np.pi\n",
    "    \n",
    "    return np.real((element1 + element2))"
   ]
  },
  {
   "cell_type": "markdown",
   "metadata": {},
   "source": [
    "<h2><center> Annex</center></h2>\n",
    "<h3><center> How to obtain the simplified formula</center></h3>\n",
    "So we'll start by noting that:\n",
    "\n",
    "$$C = S_t .\\left[\\frac{1}{2} + \\frac{1}{\\pi} \\int_0^{\\inf} Re\\left[\\frac{e^{-is \\,ln K} f_1(s,\\nu, x)}{is}\\right]ds\\right] - Ke^{-r\\tau}\\left[\\frac{1}{2} + \\frac{1}{\\pi} \\int_0^{\\inf} Re\\left[\\frac{e^{-is \\,ln K} f_2(s,\\nu, x)}{is}\\right]ds\\right]$$\n",
    "<br>\n",
    "<br>\n",
    "We extract the $1/2$ from the combined $P$ functions:\n",
    "\n",
    "$$C = \\frac{1}{2}(S_t - Ke^{-r\\tau}) +\\left[\\frac{S_t}{\\pi} \\int_0^{\\inf} Re\\left[\\frac{e^{-is \\,ln K} f_1(s,\\nu, x)}{is}\\right]ds - \\frac{Ke^{-r\\tau}}{\\pi} \\int_0^{\\inf} Re\\left[\\frac{e^{-is \\,ln K} f_2(s,\\nu, x)}{is}\\right]ds\\right]$$\n",
    "<br>\n",
    "<br>\n",
    "\n",
    "We also note that $e^{-is \\,ln K}$ is basically $e^{ln K^{-is}}$ which can also be simplified to $K^{-is}$ or $\\frac{1}{K^{is}}$. We can therefore represent our call option formula as:\n",
    "<br>\n",
    "<br>\n",
    "$$C = \\frac{1}{2}(S_t - Ke^{-r\\tau}) +\\frac{1}{\\pi}\\left[S_t \\int_0^{\\infty} Re\\left[\\frac{f_1(s,\\nu, x)}{is. K^{iu}}\\right]ds - Ke^{-r\\tau} \\int_0^{\\inf} Re\\left[\\frac{f_2(s,\\nu, x)}{is.K^{iu}}\\right]ds\\right]$$\n",
    "<br>\n",
    "<br>\n",
    "We can then put the expression in one integral:\n",
    "<br>\n",
    "<br>\n",
    "$$C = \\frac{1}{2}(S_t - Ke^{-r\\tau}) +\\frac{1}{\\pi}\\int_0^{\\infty} Re\\left[S_t \\frac{f_1(s,\\nu, x)}{is. K^{iu}} - Ke^{-r\\tau} \\frac{f_2(s,\\nu, x)}{is.K^{iu}}\\right]ds$$\n",
    "<br>\n",
    "<br>\n",
    "From this point we can expand the expression for f:\n",
    "<br>\n",
    "<br>\n",
    "$$f_j(s,\\nu, x) = exp(C_j(\\tau, s) + D_j(\\tau, s).\\nu + i.s.x)$$\n",
    "<br>\n",
    "<br>\n",
    "Expanded out, f is defined as:\n",
    "<br>\n",
    "<br>\n",
    "$$f_j(s,\\nu, x) = exp\\left(r.i.s.\\tau + \\frac{\\kappa  \\theta}{\\sigma^2}\\left[ (BRS).\\tau - 2 ln \\left(\\frac{1 - g_j.e^{d_j.\\tau}}{1 - g_j}\\right)\\right] + \\frac{BRS}{\\sigma^2} \\left(\\frac{1 - e^{d_j.\\tau}}{1 - g_j.e^{d_j.\\tau}} \\right).\\nu + i.s.x\\right)$$\n",
    "<br>\n",
    "<br>\n",
    "$$where \\,BRS = b_j - \\rho.\\sigma.i.s + d_j$$\n",
    "<br>\n",
    "<br>\n",
    "We can extract the first exponential of the `fHeston` function since:\n",
    "<br>\n",
    "<br>\n",
    "$$f_j(s,\\nu, x) = exp\\left(r.i.s.\\tau + i.s.x \\right ) \\times exp\\left(\\frac{-2\\kappa  \\theta}{\\sigma^2} ln \\left(\\frac{1 - g_j.e^{d_j.\\tau}}{1 - g_j}\\right)\\right)\n",
    "\\times exp\\left(BRS \\frac{\\kappa  \\theta}{\\sigma^2}\\right)  \\times exp\\left( \\frac{BRS}{\\sigma^2} \\left(\\frac{1 - e^{d_j.\\tau}}{1 - g_j.e^{d_j.\\tau}} \\right).\\nu \\right)$$\n",
    "<br>\n",
    "<br>\n",
    "Starting with the left most part, we obtain the same expression as `fHeston`:\n",
    "<br>\n",
    "<br>\n",
    "$$exp\\left(r.i.s.\\tau + i.s.x \\right ) = e^{r.i.s.\\tau} e^{i.s.ln S_t} = e^{r.i.s.\\tau} S_t^{i.s}$$\n",
    "<br>\n",
    "<br>\n",
    "The second element we obtain is:\n",
    "<br>\n",
    "<br>\n",
    "$$exp\\left(\\frac{-2\\kappa  \\theta}{\\sigma^2} ln \\left(\\frac{1 - g_j.e^{d_j.\\tau}}{1 - g_j}\\right)\\right) = exp\\left(ln \\left(\\frac{1 - g_j.e^{d_j.\\tau}}{1 - g_j}\\right)\\times{\\frac{-2\\kappa  \\theta}{\\sigma^2}}\\right) = \\left(\\frac{1 - g_j.e^{d_j.\\tau}}{1 - g_j}\\right) ^ {\\frac{-2\\kappa  \\theta}{\\sigma^2}}$$\n",
    "<br>\n",
    "<br>\n",
    "The final part is simply rearranged:\n",
    "<br>\n",
    "<br>\n",
    "$$exp\\left(BRS \\frac{\\kappa  \\theta}{\\sigma^2}\\right)  \\times exp\\left( \\frac{BRS}{\\sigma^2} \\left(\\frac{1 - e^{d_j.\\tau}}{1 - g_j.e^{d_j.\\tau}} \\right).\\nu \\right) = exp\\left(BRS \\frac{\\kappa  \\theta}{\\sigma^2} +  \\frac{BRS.\\nu }{\\sigma^2} \\left(\\frac{1 - e^{d_j.\\tau}}{1 - g_j.e^{d_j.\\tau}} \\right)\\right)$$\n",
    "<br>\n",
    "<br>\n",
    "So putting everything together:\n",
    "<br>\n",
    "<br>\n",
    "$$f_j(s,\\nu, x) = e^{r.i.s.\\tau} S_t^{i.s} \\left(\\frac{1 - g_j.e^{d_j.\\tau}}{1 - g_j}\\right) ^ {\\frac{-2\\kappa  \\theta}{\\sigma^2}}exp\\left(BRS \\frac{\\kappa  \\theta}{\\sigma^2} +  \\frac{BRS.\\nu }{\\sigma^2} \\left(\\frac{1 - e^{d_j.\\tau}}{1 - g_j.e^{d_j.\\tau}} \\right)\\right)$$\n"
   ]
  },
  {
   "cell_type": "markdown",
   "metadata": {},
   "source": [
    "<br>\n",
    "<br>\n",
    "<br>\n",
    "\n",
    "<h3><center> More Integration Schemes</center></h3>"
   ]
  },
  {
   "cell_type": "code",
   "execution_count": 13,
   "metadata": {},
   "outputs": [],
   "source": [
    "\n",
    "# Heston pricer Trapezoidal Rule\n",
    "def priceHestonTrap(St, K, r, T, sigma, kappa, theta, volvol, rho):\n",
    "    P, iterations, maxNumber = 0,1000,100\n",
    "    du = maxNumber/iterations\n",
    "    \n",
    "    element1 = 0.5 * (St - K * np.exp(-r * T))\n",
    "    \n",
    "    P1 = du * ((phiHeston(du-i, St, K, r, T, sigma, kappa, theta, volvol, rho) - \n",
    "               K * phiHeston(du, St, K, r, T, sigma, kappa, theta, volvol, rho))/\n",
    "              2 * np.exp(np.log(K) * i *du) * i * du)\n",
    "    \n",
    "    PN = du * ((phiHeston(du * iterations -i, St, K, r, T, sigma, kappa, theta, volvol, rho) - \n",
    "               K * phiHeston(du * iterations, St, K, r, T, sigma, kappa, theta, volvol, rho))/\n",
    "              2 * np.exp(np.log(K) * i * du * iterations) * i * du * iterations)\n",
    "    \n",
    "    # Calculate the complex integral\n",
    "    # Using j instead of i to avoid confusion\n",
    "    for j in range(2, iterations):\n",
    "        u1 = du * j\n",
    "        u2 = u1 - i\n",
    "        \n",
    "        numerator1 = phiHeston(u2,  St, K, r, T, sigma, kappa, theta, volvol, rho)\n",
    "        numerator2 = K * phiHeston(u1,  St, K, r, T, sigma, kappa, theta, volvol, rho)\n",
    "        denominator = np.exp(np.log(K) * i * u1) *i *u1 \n",
    "     \n",
    "        P += du *(numerator1 - numerator2)/denominator\n",
    "    \n",
    "    element2 = (P + P1 + PN)/np.pi\n",
    "\n",
    "    return np.real((element1 + element2))\n",
    "\n",
    "# Heston pricer Trapezoidal Rule\n",
    "def priceHestonSimp(St, K, r, T, sigma, kappa, theta, volvol, rho):\n",
    "    PEven, POdd, iterations, maxNumber = 0,0,1000,100\n",
    "    du = maxNumber/iterations\n",
    "    \n",
    "    element1 = 0.5 * (St - K * np.exp(-r * T))\n",
    "    \n",
    "    P1 = du * ((phiHeston(du-i, St, K, r, T, sigma, kappa, theta, volvol, rho) - \n",
    "               K * phiHeston(du, St, K, r, T, sigma, kappa, theta, volvol, rho))/\n",
    "              3 * np.exp(np.log(K) * i *du) * i * du)\n",
    "    \n",
    "    PN = du * ((phiHeston(du * iterations -i, St, K, r, T, sigma, kappa, theta, volvol, rho) - \n",
    "               K * phiHeston(du * iterations, St, K, r, T, sigma, kappa, theta, volvol, rho))/\n",
    "              3 * np.exp(np.log(K) * i * du * iterations) * i * du * iterations)\n",
    "    \n",
    "    # Calculate the complex integral\n",
    "    # Using j instead of i to avoid confusion\n",
    "    for j in range(2, iterations, 2):\n",
    "        u1 = du * j\n",
    "        u2 = u1 - i\n",
    "        \n",
    "        numerator1Even = phiHeston(u2,  St, K, r, T, sigma, kappa, theta, volvol, rho)\n",
    "        numerator2Even = K * phiHeston(u1,  St, K, r, T, sigma, kappa, theta, volvol, rho)\n",
    "        numerator1Odd = phiHeston(u2+du,  St, K, r, T, sigma, kappa, theta, volvol, rho)\n",
    "        numerator2Odd = K * phiHeston(u1+du,  St, K, r, T, sigma, kappa, theta, volvol, rho)\n",
    "        \n",
    "        denominatorEven = np.exp(np.log(K) * i * u1) *i *u1\n",
    "        denominatorOdd = np.exp(np.log(K) * i * (u1+du)) *i *(u1+du)\n",
    "     \n",
    "        PEven += du * 4 *(numerator1Even - numerator2Even)/(3 * denominatorEven)\n",
    "        POdd += du *2 * (numerator1Odd - numerator2Odd)/(3 * denominatorOdd)\n",
    "    \n",
    "    element2 = (PEven + POdd + P1 + PN)/np.pi\n",
    "\n",
    "    return np.real((element1 + element2))"
   ]
  }
 ],
 "metadata": {
  "kernelspec": {
   "display_name": "Python 3",
   "language": "python",
   "name": "python3"
  },
  "language_info": {
   "codemirror_mode": {
    "name": "ipython",
    "version": 3
   },
   "file_extension": ".py",
   "mimetype": "text/x-python",
   "name": "python",
   "nbconvert_exporter": "python",
   "pygments_lexer": "ipython3",
   "version": "3.8.5"
  }
 },
 "nbformat": 4,
 "nbformat_minor": 4
}
