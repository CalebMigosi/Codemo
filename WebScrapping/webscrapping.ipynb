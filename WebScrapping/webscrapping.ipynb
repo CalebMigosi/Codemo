{
  "nbformat": 4,
  "nbformat_minor": 0,
  "metadata": {
    "kernelspec": {
      "display_name": "Python 3",
      "language": "python",
      "name": "python3"
    },
    "language_info": {
      "codemirror_mode": {
        "name": "ipython",
        "version": 3
      },
      "file_extension": ".py",
      "mimetype": "text/x-python",
      "name": "python",
      "nbconvert_exporter": "python",
      "pygments_lexer": "ipython3",
      "version": "3.8.5"
    },
    "colab": {
      "name": "webscrapping.ipynb",
      "provenance": [],
      "include_colab_link": true
    }
  },
  "cells": [
    {
      "cell_type": "markdown",
      "metadata": {
        "id": "view-in-github",
        "colab_type": "text"
      },
      "source": [
        "<a href=\"https://colab.research.google.com/github/CalebMigosi/Codemo/blob/main/webscrapping.ipynb\" target=\"_parent\"><img src=\"https://colab.research.google.com/assets/colab-badge.svg\" alt=\"Open In Colab\"/></a>"
      ]
    },
    {
      "cell_type": "markdown",
      "metadata": {
        "id": "e1MbTBbDD8xT"
      },
      "source": [
        "<img src = 'img/logo.png' style = \"height:70px; width:70px;float:right;\"> \n",
        "<h1><center> Webscrapping to MySQL</center></h1>\n",
        "\n",
        "In this script we attempt to obtain market quotes from [investing.com](https://www.investing.com/). Despite there being an existent API from [investing.com](https://www.investing.com/) in Python (check out [`investpy`](https://pypi.org/project/investpy/)), this is a fun little project to introduce webscrapping with 2 important python packages: `Selenium` and `BeautifulSoup`.\n",
        "\n",
        "Finally, we will do a quick overview of SQL and how to input the data we've scraped to MySQL. To do this, we will use the `mysql` package in Python.\n",
        "\n",
        "`Selenium` is an API that allows us to use Selenium Webdriver to automate tasks on our browser. Using `selenium` we can direct our browser to specific pages where we want to scrape our data. \n",
        "\n",
        "`BeautifulSoup` on the other hand allows us to extract useful information from the pages we've obtained from `selenium`.\n",
        "\n",
        "\n",
        "### Workflow\n",
        "1. Set up selenium\n",
        "2. Connect to [investing.com](https://www.investing.com/)\n",
        "3. Parse HTML page using beautifulSoup\n",
        "4. Store data in MySQL\n",
        "\n",
        "<h2><center> 0. Import packages </center></h2>"
      ]
    },
    {
      "cell_type": "code",
      "metadata": {
        "id": "0f0sslMxD8xV"
      },
      "source": [
        "# !pip install beautifulsoup\n",
        "# !pip install selenium\n",
        "# !pip install mysql-connector-python\n",
        "import sys\n",
        "from bs4 import BeautifulSoup\n",
        "import requests\n",
        "import re\n",
        "import time \n",
        "import pandas as pd\n",
        "import os\n",
        "from datetime import datetime as dt\n",
        "import time\n",
        "import itertools \n",
        "\n",
        "# Selenium Related packages\n",
        "###############################\n",
        "from selenium import webdriver\n",
        "from selenium.webdriver.common.by import By\n",
        "from selenium.webdriver.support.ui import WebDriverWait\n",
        "from selenium.webdriver.support import expected_conditions as EC\n",
        "\n",
        "\n",
        "##SQL (pip install mysql-connector-python)\n",
        "import mysql.connector\n",
        "\n",
        "# Only if you're on Linux/Google Colab\n",
        "# !apt-get update # to update ubuntu to correctly run apt install\n",
        "# !apt install chromium-chromedriver\n",
        "# !cp /usr/lib/chromium-browser/chromedriver /usr/bin"
      ],
      "execution_count": 16,
      "outputs": []
    },
    {
      "cell_type": "markdown",
      "metadata": {
        "id": "lDLY7cOOD8xW"
      },
      "source": [
        "<h2><center>1. Set up Selenium </center></h2>\n",
        "\n",
        "### Log in to investing.com"
      ]
    },
    {
      "cell_type": "code",
      "metadata": {
        "colab": {
          "base_uri": "https://localhost:8080/"
        },
        "id": "3eiKa-UQD8xW",
        "outputId": "d4908a31-6f2a-434a-dfcd-c33d09add0ae"
      },
      "source": [
        "# Investing login URL\n",
        "url = 'https://www.investing.com'\n",
        "\n",
        "# On ubuntu: sudo apt-get install chromium-chromedriver\n",
        "# Connect to driver using Python\n",
        "# Setting up options for WebDriver\n",
        "sys.path.insert(0,'/usr/lib/chromium-browser/chromedriver')\n",
        "chrome_options = webdriver.ChromeOptions()\n",
        "chrome_options.add_argument('--headless')\n",
        "chrome_options.add_argument('--no-sandbox')\n",
        "chrome_options.add_argument('--disable-dev-shm-usage')\n",
        "driver = webdriver.Chrome('chromedriver',chrome_options=chrome_options)\n",
        "\n",
        "\n",
        "# Connect to url\n",
        "driver.get(url + '/login')\n",
        "\n",
        "# Set up email and password to investing account\n",
        "mail = 'calebmigosi@gmail.com'\n",
        "password = MYPASSWORD,
        "\n",
        "# Fill email\n",
        "email = driver.find_element_by_id(\"loginFormUser_email\")\n",
        "email.clear()\n",
        "email.send_keys(mail)\n",
        "\n",
        "# Send Password\n",
        "pwd = driver.find_element_by_id(\"loginForm_password\")\n",
        "pwd.clear()\n",
        "pwd.send_keys(password)\n",
        "\n",
        "# Click Sign in Button\n",
        "# driver.find_element_by_id(\"onetrust-accept-btn-handler\").click()\n",
        "driver.find_element_by_link_text(\"Sign In\").click()\n",
        "\n",
        "## Direct to Home Page\n",
        "driver.get(url)"
      ],
      "execution_count": 23,
      "outputs": [
        {
          "output_type": "stream",
          "text": [
            "/usr/local/lib/python3.7/dist-packages/ipykernel_launcher.py:12: DeprecationWarning: use options instead of chrome_options\n",
            "  if sys.path[0] == '':\n"
          ],
          "name": "stderr"
        }
      ]
    },
    {
      "cell_type": "markdown",
      "metadata": {
        "id": "aZM0_ViMD8xX"
      },
      "source": [
        "### Define pages of interest "
      ]
    },
    {
      "cell_type": "code",
      "metadata": {
        "id": "fmPf1jtND8xX"
      },
      "source": [
        "#Regions of interest\n",
        "regions = ['Americas', 'Europe', 'Asia/Pacific']\n",
        "assetTypes = ['Indices', 'Stocks', 'ETFs', 'Bonds']"
      ],
      "execution_count": 19,
      "outputs": []
    },
    {
      "cell_type": "code",
      "metadata": {
        "id": "jSrxSBO-D8xX"
      },
      "source": [
        "def pageExtractor(region, assetType):\n",
        "    driver.find_element_by_link_text(\"Markets\").click()\n",
        "    driver.find_element_by_link_text(region).click()\n",
        "    driver.find_element_by_link_text(assetType).click()\n",
        "    time.sleep(1)\n",
        "\n",
        "    # Direct to main table and find the link on each\n",
        "    wrapper = driver.find_elements_by_xpath(\"//div[@class = 'wrapper']\")\n",
        "    leftColumn = driver.find_element_by_id(\"leftColumn\")\n",
        "\n",
        "    content = leftColumn.find_element_by_css_selector(\"table[id = 'cross_rate_markets_indices_1']\")\n",
        "    overviewTable = content.find_elements_by_xpath(\"//table[@id = 'cross_rate_markets_indices_1']\")\n",
        "    tableElements = content.find_elements_by_xpath(\"//td[@class = 'bold left noWrap elp plusIconTd']\")\n",
        "    links = [elem.find_elements_by_tag_name(\"a\")[0].get_attribute(\"href\")\n",
        "                for elem in tableElements]\n",
        "    \n",
        "    htmlPages = []\n",
        "    for link in links:\n",
        "        driver.get(link)\n",
        "        driver.find_element_by_link_text(\"Historical Data\").click()\n",
        "        \n",
        "        # Wait for page to load\n",
        "        time.sleep(2)\n",
        "        try:\n",
        "            elem = driver.find_element_by_id(\"widgetFieldDateRange\")\n",
        "        except:\n",
        "            print(link)\n",
        "            next \n",
        "            \n",
        "        # Change first date to 01/01/1970\n",
        "        driver.find_element_by_id(\"widgetField\").click()\n",
        "        startDate = driver.find_element_by_id(\"startDate\")\n",
        "        startDate.clear()\n",
        "        startDate.send_keys('01/01/1980')\n",
        "\n",
        "        endDate = driver.find_element_by_id(\"endDate\")\n",
        "        endDate.clear()\n",
        "        endDate.send_keys('01/01/2005')\n",
        "\n",
        "        # Click apply button (Bit of an exception because of a JS element on the button)\n",
        "        button = driver.find_element_by_xpath('//a[@id=\"applyBtn\" and @class=\"newBtn Arrow LightGray float_lang_base_2\"]')\n",
        "        driver.execute_script(\"arguments[0].click();\", button)\n",
        "        time.sleep(2)\n",
        "\n",
        "        htmlTable = []\n",
        "        # Extract page as HTML\n",
        "        htmlTable.append(BeautifulSoup(driver.page_source, 'html.parser'))\n",
        "\n",
        "        # Change first date to 01/01/1970\n",
        "        driver.find_element_by_id(\"widgetField\").click()\n",
        "        startDate = driver.find_element_by_id(\"startDate\")\n",
        "        startDate.clear()\n",
        "        startDate.send_keys('01/01/2005')\n",
        "\n",
        "        endDate = driver.find_element_by_id(\"endDate\")\n",
        "        endDate.clear()\n",
        "        endDate.send_keys('01/01/2025')\n",
        "\n",
        "        # Click apply button (Bit of an exception because of a JS element on the button)\n",
        "        button = driver.find_element_by_xpath('//a[@id=\"applyBtn\" and @class=\"newBtn Arrow LightGray float_lang_base_2\"]')\n",
        "        driver.execute_script(\"arguments[0].click();\", button)\n",
        "        time.sleep(2)\n",
        "\n",
        "        # Extract page as HTML\n",
        "        htmlTable.append(BeautifulSoup(driver.page_source, 'html.parser'))\n",
        "        \n",
        "        htmlPages.append(htmlTable)\n",
        "        driver.find_element_by_link_text(\"Markets\").click()\n",
        "        driver.find_element_by_link_text(region).click()\n",
        "        driver.find_element_by_link_text(assetType).click()\n",
        "        \n",
        "    return(htmlPages)"
      ],
      "execution_count": 20,
      "outputs": []
    },
    {
      "cell_type": "markdown",
      "metadata": {
        "id": "RpqT_97jD8xY"
      },
      "source": [
        "<h2><center> 2. BeautifulSoup to extract quotes </center></h2>\n",
        "\n",
        "Create a function to clean quotes from HTML and extract a table of quotes."
      ]
    },
    {
      "cell_type": "code",
      "metadata": {
        "id": "tOY1N0aFD8xY"
      },
      "source": [
        "def quoteExtractor(HTMLInput):\n",
        "    # Find all table rows(tr) of a table \n",
        "    htmlTable = HTMLInput.find_all('tr')\n",
        "\n",
        "    # Find text on the line\n",
        "    quotes = [line.find_all(text = True) for line in htmlTable]\n",
        "\n",
        "    # If 'No results found' return NA\n",
        "    quoteStr = [' '.join(quote) for quote in quotes]\n",
        "    if '\\n No results found \\n' in quoteStr: return(pd.DataFrame([]))\n",
        "\n",
        "    # Select either dates or numbers(quotes)\n",
        "    regexQuotes =  re.compile(r'([A-Za-z]{3} [0-9]{2})|([0-9.]{1,20})')\n",
        "    regexDates =  re.compile(r'([A-Za-z]{3} [0-9]{2})')\n",
        "    reg = re.compile(r'^(?!\\n$)')\n",
        "\n",
        "    'Extract quotes as nested list'\n",
        "    quoteList = []\n",
        "    # Filter out dates and quotes in each row\n",
        "    for row in quotes:\n",
        "        quote = list(filter(reg.match, row))     # Remove \\n strings\n",
        "        quoteList.append(list(filter(regexQuotes.match, quote)))\n",
        "\n",
        "    # Remove Empty Lists\n",
        "    quoteList = list(filter(None, quoteList))\n",
        "\n",
        "    'Find column names'\n",
        "    # Find column headers by class\n",
        "    colnames = [line.find_all('th', \n",
        "                              {\"class\": {\"noWrap pointer\", \"first left noWrap pointer\"}}) for line in htmlTable]\n",
        "\n",
        "    # Remove empty classes \n",
        "    colnames = list(filter(None, colnames))\n",
        "    cols = [line.find_all(text = True) for line in colnames[0]]\n",
        "\n",
        "    # Find field names\n",
        "    fields = list(itertools.chain(*cols))\n",
        "\n",
        "    'Assign column names to columns'\n",
        "    # Select only the first 6 columns\n",
        "    quoteData = pd.DataFrame(quoteList)\n",
        "    quoteData.columns = fields \n",
        "\n",
        "    validRows = list(filter(regexDates.match, quoteData['Date']))\n",
        "    validDates = [(quote in validRows) for quote in quoteData['Date']]\n",
        "\n",
        "    # Filter out by valid dates\n",
        "    quoteData = quoteData[validDates]\n",
        "\n",
        "    # Set Dates as index\n",
        "    quoteData.Date = [dt.strptime(re.sub(',', '', date), '%b %d %Y') for date in quoteData.Date]\n",
        "\n",
        "    # Change Close, Open, High and Low columns\n",
        "    # Change quotes from strings to floats\n",
        "    quoteCleaner = lambda x: [float(re.sub(\",\", \"\", quote)) for quote in  x]\n",
        "    quoteData[['Price', 'Open', 'High', 'Low']] = quoteData[['Price', 'Open', 'High', 'Low']].apply(quoteCleaner)\n",
        "    \n",
        "    return quoteData[['Date', 'Price', 'Open', 'High', 'Low']]"
      ],
      "execution_count": 21,
      "outputs": []
    },
    {
      "cell_type": "markdown",
      "metadata": {
        "id": "otGqi9rRD8xY"
      },
      "source": [
        "<h2><center> 3. Data into SQL </center></h2>\n",
        "\n",
        "### Create market data schema"
      ]
    },
    {
      "cell_type": "code",
      "metadata": {
        "colab": {
          "base_uri": "https://localhost:8080/",
          "height": 425
        },
        "id": "raFNcedqD8xZ",
        "outputId": "a4da25f0-a71f-4584-ec9c-5b881a59906e"
      },
      "source": [
        "mydb = mysql.connector.connect(\n",
        "  host=\"localhost\",\n",
        "  user=\"root\",\n",
        "  password=\"xj6yFfEtOA3NjaLT*tx0\"\n",
        ")\n",
        "\n",
        "mycursor = mydb.cursor()\n",
        "# mycursor.execute(\"CREATE DATABASE market_data\")\n",
        "\n",
        "# Connect to marker_data\n",
        "mydb = mysql.connector.connect(\n",
        "  host=\"localhost\",\n",
        "  user=\"root\",\n",
        "  password=\"PASSWORD\",\n",
        "  database = 'market_data')\n",
        "\n",
        "mycursor = mydb.cursor()"
      ],
      "execution_count": 22,
      "outputs": [
        {
          "output_type": "error",
          "ename": "InterfaceError",
          "evalue": "ignored",
          "traceback": [
            "\u001b[0;31m---------------------------------------------------------------------------\u001b[0m",
            "\u001b[0;31mConnectionRefusedError\u001b[0m                    Traceback (most recent call last)",
            "\u001b[0;32m/usr/local/lib/python3.7/dist-packages/mysql/connector/network.py\u001b[0m in \u001b[0;36mopen_connection\u001b[0;34m(self)\u001b[0m\n\u001b[1;32m    508\u001b[0m                     \u001b[0;32mexcept\u001b[0m \u001b[0mssl\u001b[0m\u001b[0;34m.\u001b[0m\u001b[0mCertificateError\u001b[0m \u001b[0;32mas\u001b[0m \u001b[0merr\u001b[0m\u001b[0;34m:\u001b[0m\u001b[0;34m\u001b[0m\u001b[0;34m\u001b[0m\u001b[0m\n\u001b[0;32m--> 509\u001b[0;31m                         \u001b[0merrs\u001b[0m\u001b[0;34m.\u001b[0m\u001b[0mappend\u001b[0m\u001b[0;34m(\u001b[0m\u001b[0mstr\u001b[0m\u001b[0;34m(\u001b[0m\u001b[0merr\u001b[0m\u001b[0;34m)\u001b[0m\u001b[0;34m)\u001b[0m\u001b[0;34m\u001b[0m\u001b[0;34m\u001b[0m\u001b[0m\n\u001b[0m\u001b[1;32m    510\u001b[0m                     \u001b[0;32melse\u001b[0m\u001b[0;34m:\u001b[0m\u001b[0;34m\u001b[0m\u001b[0;34m\u001b[0m\u001b[0m\n",
            "\u001b[0;31mConnectionRefusedError\u001b[0m: [Errno 111] Connection refused",
            "\nDuring handling of the above exception, another exception occurred:\n",
            "\u001b[0;31mInterfaceError\u001b[0m                            Traceback (most recent call last)",
            "\u001b[0;32m<ipython-input-22-41bf03ea7b7f>\u001b[0m in \u001b[0;36m<module>\u001b[0;34m()\u001b[0m\n\u001b[1;32m      2\u001b[0m   \u001b[0mhost\u001b[0m\u001b[0;34m=\u001b[0m\u001b[0;34m\"localhost\"\u001b[0m\u001b[0;34m,\u001b[0m\u001b[0;34m\u001b[0m\u001b[0;34m\u001b[0m\u001b[0m\n\u001b[1;32m      3\u001b[0m   \u001b[0muser\u001b[0m\u001b[0;34m=\u001b[0m\u001b[0;34m\"root\"\u001b[0m\u001b[0;34m,\u001b[0m\u001b[0;34m\u001b[0m\u001b[0;34m\u001b[0m\u001b[0m\n\u001b[0;32m----> 4\u001b[0;31m   \u001b[0mpassword\u001b[0m\u001b[0;34m=\u001b[0m\u001b[0;34m\"xj6yFfEtOA3NjaLT*tx0\"\u001b[0m\u001b[0;34m\u001b[0m\u001b[0;34m\u001b[0m\u001b[0m\n\u001b[0m\u001b[1;32m      5\u001b[0m )\n\u001b[1;32m      6\u001b[0m \u001b[0;34m\u001b[0m\u001b[0m\n",
            "\u001b[0;32m/usr/local/lib/python3.7/dist-packages/mysql/connector/__init__.py\u001b[0m in \u001b[0;36mconnect\u001b[0;34m(*args, **kwargs)\u001b[0m\n\u001b[1;32m    177\u001b[0m         \u001b[0;32mfor\u001b[0m \u001b[0m_\u001b[0m \u001b[0;32min\u001b[0m \u001b[0mrange\u001b[0m\u001b[0;34m(\u001b[0m\u001b[0mlen\u001b[0m\u001b[0;34m(\u001b[0m\u001b[0mfailover_list\u001b[0m\u001b[0;34m)\u001b[0m\u001b[0;34m)\u001b[0m\u001b[0;34m:\u001b[0m\u001b[0;34m\u001b[0m\u001b[0;34m\u001b[0m\u001b[0m\n\u001b[1;32m    178\u001b[0m             \u001b[0mlast\u001b[0m \u001b[0;34m=\u001b[0m \u001b[0mlen\u001b[0m\u001b[0;34m(\u001b[0m\u001b[0mfailover_list\u001b[0m\u001b[0;34m)\u001b[0m \u001b[0;34m-\u001b[0m \u001b[0;36m1\u001b[0m\u001b[0;34m\u001b[0m\u001b[0;34m\u001b[0m\u001b[0m\n\u001b[0;32m--> 179\u001b[0;31m             \u001b[0mindex\u001b[0m \u001b[0;34m=\u001b[0m \u001b[0mrandom\u001b[0m\u001b[0;34m.\u001b[0m\u001b[0mrandint\u001b[0m\u001b[0;34m(\u001b[0m\u001b[0;36m0\u001b[0m\u001b[0;34m,\u001b[0m \u001b[0mlast\u001b[0m\u001b[0;34m)\u001b[0m\u001b[0;34m\u001b[0m\u001b[0;34m\u001b[0m\u001b[0m\n\u001b[0m\u001b[1;32m    180\u001b[0m             \u001b[0mserver\u001b[0m \u001b[0;34m=\u001b[0m \u001b[0mfailover_list\u001b[0m\u001b[0;34m.\u001b[0m\u001b[0mpop\u001b[0m\u001b[0;34m(\u001b[0m\u001b[0mindex\u001b[0m\u001b[0;34m)\u001b[0m\u001b[0;34m\u001b[0m\u001b[0;34m\u001b[0m\u001b[0m\n\u001b[1;32m    181\u001b[0m             \u001b[0mnew_config\u001b[0m \u001b[0;34m=\u001b[0m \u001b[0mconfig\u001b[0m\u001b[0;34m.\u001b[0m\u001b[0mcopy\u001b[0m\u001b[0;34m(\u001b[0m\u001b[0;34m)\u001b[0m\u001b[0;34m\u001b[0m\u001b[0;34m\u001b[0m\u001b[0m\n",
            "\u001b[0;32m/usr/local/lib/python3.7/dist-packages/mysql/connector/connection.py\u001b[0m in \u001b[0;36m__init__\u001b[0;34m(self, *args, **kwargs)\u001b[0m\n\u001b[1;32m     93\u001b[0m         \u001b[0mself\u001b[0m\u001b[0;34m.\u001b[0m\u001b[0m_have_next_result\u001b[0m \u001b[0;34m=\u001b[0m \u001b[0;32mFalse\u001b[0m\u001b[0;34m\u001b[0m\u001b[0;34m\u001b[0m\u001b[0m\n\u001b[1;32m     94\u001b[0m         \u001b[0mself\u001b[0m\u001b[0;34m.\u001b[0m\u001b[0m_raw\u001b[0m \u001b[0;34m=\u001b[0m \u001b[0;32mFalse\u001b[0m\u001b[0;34m\u001b[0m\u001b[0;34m\u001b[0m\u001b[0m\n\u001b[0;32m---> 95\u001b[0;31m         \u001b[0mself\u001b[0m\u001b[0;34m.\u001b[0m\u001b[0m_in_transaction\u001b[0m \u001b[0;34m=\u001b[0m \u001b[0;32mFalse\u001b[0m\u001b[0;34m\u001b[0m\u001b[0;34m\u001b[0m\u001b[0m\n\u001b[0m\u001b[1;32m     96\u001b[0m \u001b[0;34m\u001b[0m\u001b[0m\n\u001b[1;32m     97\u001b[0m         \u001b[0mself\u001b[0m\u001b[0;34m.\u001b[0m\u001b[0m_prepared_statements\u001b[0m \u001b[0;34m=\u001b[0m \u001b[0;32mNone\u001b[0m\u001b[0;34m\u001b[0m\u001b[0;34m\u001b[0m\u001b[0m\n",
            "\u001b[0;32m/usr/local/lib/python3.7/dist-packages/mysql/connector/abstracts.py\u001b[0m in \u001b[0;36mconnect\u001b[0;34m(self, **kwargs)\u001b[0m\n\u001b[1;32m    714\u001b[0m             raise errors.ProgrammingError(\n\u001b[1;32m    715\u001b[0m                 \"set_client_flags expect integer (>0) or set\")\n\u001b[0;32m--> 716\u001b[0;31m         \u001b[0;32mreturn\u001b[0m \u001b[0mself\u001b[0m\u001b[0;34m.\u001b[0m\u001b[0m_client_flags\u001b[0m\u001b[0;34m\u001b[0m\u001b[0;34m\u001b[0m\u001b[0m\n\u001b[0m\u001b[1;32m    717\u001b[0m \u001b[0;34m\u001b[0m\u001b[0m\n\u001b[1;32m    718\u001b[0m     \u001b[0;32mdef\u001b[0m \u001b[0misset_client_flag\u001b[0m\u001b[0;34m(\u001b[0m\u001b[0mself\u001b[0m\u001b[0;34m,\u001b[0m \u001b[0mflag\u001b[0m\u001b[0;34m)\u001b[0m\u001b[0;34m:\u001b[0m\u001b[0;34m\u001b[0m\u001b[0;34m\u001b[0m\u001b[0m\n",
            "\u001b[0;32m/usr/local/lib/python3.7/dist-packages/mysql/connector/connection.py\u001b[0m in \u001b[0;36m_open_connection\u001b[0;34m(self)\u001b[0m\n\u001b[1;32m    204\u001b[0m                                        \u001b[0mssl_options\u001b[0m\u001b[0;34m.\u001b[0m\u001b[0mget\u001b[0m\u001b[0;34m(\u001b[0m\u001b[0;34m'key'\u001b[0m\u001b[0;34m)\u001b[0m\u001b[0;34m,\u001b[0m\u001b[0;34m\u001b[0m\u001b[0;34m\u001b[0m\u001b[0m\n\u001b[1;32m    205\u001b[0m                                        \u001b[0mssl_options\u001b[0m\u001b[0;34m.\u001b[0m\u001b[0mget\u001b[0m\u001b[0;34m(\u001b[0m\u001b[0;34m'verify_cert'\u001b[0m\u001b[0;34m)\u001b[0m \u001b[0;32mor\u001b[0m \u001b[0;32mFalse\u001b[0m\u001b[0;34m,\u001b[0m\u001b[0;34m\u001b[0m\u001b[0;34m\u001b[0m\u001b[0m\n\u001b[0;32m--> 206\u001b[0;31m                                        \u001b[0mssl_options\u001b[0m\u001b[0;34m.\u001b[0m\u001b[0mget\u001b[0m\u001b[0;34m(\u001b[0m\u001b[0;34m'verify_identity'\u001b[0m\u001b[0;34m)\u001b[0m \u001b[0;32mor\u001b[0m\u001b[0;34m\u001b[0m\u001b[0;34m\u001b[0m\u001b[0m\n\u001b[0m\u001b[1;32m    207\u001b[0m                                        \u001b[0;32mFalse\u001b[0m\u001b[0;34m,\u001b[0m\u001b[0;34m\u001b[0m\u001b[0;34m\u001b[0m\u001b[0m\n\u001b[1;32m    208\u001b[0m                                        \u001b[0mtls_ciphersuites\u001b[0m\u001b[0;34m,\u001b[0m\u001b[0;34m\u001b[0m\u001b[0;34m\u001b[0m\u001b[0m\n",
            "\u001b[0;32m/usr/local/lib/python3.7/dist-packages/mysql/connector/network.py\u001b[0m in \u001b[0;36mopen_connection\u001b[0;34m(self)\u001b[0m\n\u001b[1;32m    510\u001b[0m                     \u001b[0;32melse\u001b[0m\u001b[0;34m:\u001b[0m\u001b[0;34m\u001b[0m\u001b[0;34m\u001b[0m\u001b[0m\n\u001b[1;32m    511\u001b[0m                         \u001b[0mmatch_found\u001b[0m \u001b[0;34m=\u001b[0m \u001b[0;32mTrue\u001b[0m\u001b[0;34m\u001b[0m\u001b[0;34m\u001b[0m\u001b[0m\n\u001b[0;32m--> 512\u001b[0;31m                         \u001b[0;32mbreak\u001b[0m\u001b[0;34m\u001b[0m\u001b[0;34m\u001b[0m\u001b[0m\n\u001b[0m\u001b[1;32m    513\u001b[0m                 \u001b[0;32mif\u001b[0m \u001b[0;32mnot\u001b[0m \u001b[0mmatch_found\u001b[0m\u001b[0;34m:\u001b[0m\u001b[0;34m\u001b[0m\u001b[0;34m\u001b[0m\u001b[0m\n\u001b[1;32m    514\u001b[0m                     \u001b[0mself\u001b[0m\u001b[0;34m.\u001b[0m\u001b[0msock\u001b[0m\u001b[0;34m.\u001b[0m\u001b[0mclose\u001b[0m\u001b[0;34m(\u001b[0m\u001b[0;34m)\u001b[0m\u001b[0;34m\u001b[0m\u001b[0;34m\u001b[0m\u001b[0m\n",
            "\u001b[0;31mInterfaceError\u001b[0m: 2003: Can't connect to MySQL server on 'localhost:3306' (111 Connection refused)"
          ]
        }
      ]
    },
    {
      "cell_type": "markdown",
      "metadata": {
        "id": "jqEg0g0SD8xZ"
      },
      "source": [
        "### Create data tables"
      ]
    },
    {
      "cell_type": "code",
      "metadata": {
        "id": "IHMnpT0fD8xZ"
      },
      "source": [
        "# Stock Quote Table Function\n",
        "def tableCreator(table_name, colnames, coltype):\n",
        "    '''Concatenate the commands'''\n",
        "    sqlCommand = \"CREATE TABLE \"+ table_name +\" (\"\n",
        "    columnDefs = [colname +\" \"+ coltype for colname, coltype in zip(colnames, coltype)]\n",
        "    columnDefs = \", \".join(columnDefs)\n",
        "\n",
        "    # Execute commands\n",
        "    mycursor.execute(sqlCommand + columnDefs  + ')')\n",
        "    \n",
        "    print(table_name + ' created.')"
      ],
      "execution_count": null,
      "outputs": []
    },
    {
      "cell_type": "markdown",
      "metadata": {
        "id": "_ggGIe1yD8xZ"
      },
      "source": [
        "#### Stock and ETF Quote Table"
      ]
    },
    {
      "cell_type": "code",
      "metadata": {
        "id": "DHZnqRfvD8xZ"
      },
      "source": [
        "# Create stock quote parameters\n",
        "colnames = ['id', 'name', 'asset_id', 'Close', 'Open', 'High', 'Low', 'Volume']\n",
        "coltypes = ['INT AUTO_INCREMENT PRIMARY KEY NOT NULL', 'DATE NOT NULL', 'INT',\n",
        "           'DECIMAL(20,6)',\n",
        "           'DECIMAL(20,6)',\n",
        "           'DECIMAL(20,6)',\n",
        "           'DECIMAL(20,6)','INT']\n",
        "\n",
        "# Create stock quotes\n",
        "tableCreator('stock_quotes', colnames, coltypes)\n",
        "tableCreator('index_quotes', colnames, coltypes)\n",
        "tableCreator('etf_quotes', colnames, coltypes)\n",
        "tableCreator('commodity_quotes', colnames, coltypes)\n",
        "tableCreator('crypto_quotes', colnames, coltypes)"
      ],
      "execution_count": null,
      "outputs": []
    },
    {
      "cell_type": "markdown",
      "metadata": {
        "id": "Rwxg90TdD8xa"
      },
      "source": [
        "#### Other Asset Quote Table"
      ]
    },
    {
      "cell_type": "code",
      "metadata": {
        "id": "Ro0avwI7D8xa"
      },
      "source": [
        "# Create stock quote parameters\n",
        "colnames = ['id', 'name', 'asset_id', 'Close', 'Open', 'High', 'Low']\n",
        "coltypes = ['INT AUTO_INCREMENT PRIMARY KEY NOT NULL', 'DATE NOT NULL', 'INT',\n",
        "           'DECIMAL(20,6)',\n",
        "           'DECIMAL(20,6)',\n",
        "           'DECIMAL(20,6)',\n",
        "           'DECIMAL(20,6)']\n",
        "\n",
        "# Create stock quotes\n",
        "tableCreator('forex_quotes', colnames, coltypes)\n",
        "tableCreator('bond_yield_quotes', colnames, coltypes)"
      ],
      "execution_count": null,
      "outputs": []
    },
    {
      "cell_type": "markdown",
      "metadata": {
        "id": "rq7qTYQiD8xa"
      },
      "source": [
        "#### Fund Quote Table"
      ]
    },
    {
      "cell_type": "code",
      "metadata": {
        "id": "kJPraflnD8xa"
      },
      "source": [
        "# Create stock quote parameters\n",
        "colnames = ['id', 'name', 'asset_id', 'NAV']\n",
        "coltypes = ['INT AUTO_INCREMENT PRIMARY KEY NOT NULL', 'DATE NOT NULL', 'INT',\n",
        "           'DECIMAL(20,6)']\n",
        "\n",
        "# Create stock quotes\n",
        "tableCreator('fund_quotes', colnames, coltypes)"
      ],
      "execution_count": null,
      "outputs": []
    },
    {
      "cell_type": "markdown",
      "metadata": {
        "id": "clsWuffvD8xa"
      },
      "source": [
        "#### Stock and ETF Static Data"
      ]
    },
    {
      "cell_type": "code",
      "metadata": {
        "id": "4MMoACMTD8xa"
      },
      "source": [
        "# Create stock quote parameters\n",
        "colnames = ['id', 'name', 'Ticker', 'Industry', 'Sector', 'Beta', 'EPS', 'Shares']\n",
        "coltypes = ['INT AUTO_INCREMENT PRIMARY KEY NOT NULL', \n",
        "           'VARCHAR(45)',\n",
        "           'VARCHAR(45)',\n",
        "           'VARCHAR(45)',\n",
        "           'VARCHAR(45)',\n",
        "           'DECIMAL(8,6)',\n",
        "           'DECIMAL(10,6)',\n",
        "           'INT']\n",
        "\n",
        "# Create stock quotes\n",
        "tableCreator('stock_details', colnames, coltypes)\n",
        "tableCreator('etf_details', colnames, coltypes)"
      ],
      "execution_count": null,
      "outputs": []
    },
    {
      "cell_type": "markdown",
      "metadata": {
        "id": "nO3uWh4-D8xb"
      },
      "source": [
        "#### Bond Spread Data (vs Bund)"
      ]
    },
    {
      "cell_type": "code",
      "metadata": {
        "id": "ZWPj_5iuD8xb"
      },
      "source": [
        "# Create stock quote parameters\n",
        "colnames = ['id', 'name', 'asset_id', 'NAV']\n",
        "coltypes = ['INT AUTO_INCREMENT PRIMARY KEY NOT NULL', 'DATE NOT NULL', 'INT',\n",
        "           'DECIMAL(20,6)']\n",
        "\n",
        "# Create stock quotes\n",
        "tableCreator('bond_spread_quotes', colnames, coltypes)"
      ],
      "execution_count": null,
      "outputs": []
    }
  ]
}
